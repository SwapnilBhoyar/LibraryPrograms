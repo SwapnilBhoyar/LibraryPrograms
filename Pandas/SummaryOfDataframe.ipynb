{
    "cells": [
        {
            "cell_type": "code",
            "execution_count": 1,
            "source": [
                "\"\"\"\n",
                "@Author: Swapnil Bhoyar\n",
                "@Date: 2021-07-12 \n",
                "@Last Modified by: Swapnil Bhoyar\n",
                "@Last Modified time: 2021-08-12\n",
                "@Title : Write a Python program to create and display a DataFrame from a specified dictionary\n",
                "data which has the index labels..\n",
                "\"\"\"\n",
                "import pandas as pd\n",
                "import numpy as np\n",
                "import Log\n",
                "\n",
                "def summaryOfDataframe():\n",
                "    try:\n",
                "        exam_data  = {'name': ['Anastasia', 'Dima', 'Katherine', 'James', 'Emily', 'Michael', 'Matthew', 'Laura', 'Kevin', 'Jonas'],\n",
                "            'score': [12.5, 9, 16.5, np.nan, 9, 20, 14.5, np.nan, 8, 19],\n",
                "            'attempts': [1, 3, 2, 3, 2, 3, 1, 1, 2, 1],\n",
                "            'qualify': ['yes', 'no', 'yes', 'no', 'no', 'yes', 'yes', 'no', 'no', 'yes']}\n",
                "        labels = ['a', 'b', 'c', 'd', 'e', 'f', 'g', 'h', 'i', 'j']\n",
                "\n",
                "        tempDataframe = pd.DataFrame(exam_data , index=labels)\n",
                "        Log.logging.info(tempDataframe.info())\n",
                "    except Exception as e:\n",
                "        Log.logging.info(e)\n",
                "\n",
                "summaryOfDataframe()"
            ],
            "outputs": [
                {
                    "output_type": "stream",
                    "name": "stdout",
                    "text": [
                        "<class 'pandas.core.frame.DataFrame'>\n",
                        "Index: 10 entries, a to j\n",
                        "Data columns (total 4 columns):\n",
                        " #   Column    Non-Null Count  Dtype  \n",
                        "---  ------    --------------  -----  \n",
                        " 0   name      10 non-null     object \n",
                        " 1   score     8 non-null      float64\n",
                        " 2   attempts  10 non-null     int64  \n",
                        " 3   qualify   10 non-null     object \n",
                        "dtypes: float64(1), int64(1), object(2)\n",
                        "memory usage: 400.0+ bytes\n"
                    ]
                }
            ],
            "metadata": {}
        }
    ],
    "metadata": {
        "orig_nbformat": 4,
        "language_info": {
            "name": "python"
        }
    },
    "nbformat": 4,
    "nbformat_minor": 2
}