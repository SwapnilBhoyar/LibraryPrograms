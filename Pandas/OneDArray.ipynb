{
    "cells": [
        {
            "cell_type": "code",
            "execution_count": 1,
            "source": [
                "\"\"\"\n",
                "@Author: Swapnil Bhoyar\n",
                "@Date: 2021-07-12 \n",
                "@Last Modified by: Swapnil Bhoyar\n",
                "@Last Modified time: 2021-08-12\n",
                "@Title : create and display a one-dimensional array-like object.\n",
                "\"\"\"\n",
                "import pandas as pd\n",
                "import Log\n",
                "\n",
                "def oneDArray():\n",
                "    try:\n",
                "        ds = pd.Series([2, 4, 6, 8, 10])\n",
                "        Log.logging.info(ds)\n",
                "    except Exception as e:\n",
                "        Log.logging.error(e)"
            ],
            "outputs": [],
            "metadata": {}
        }
    ],
    "metadata": {
        "orig_nbformat": 4,
        "language_info": {
            "name": "python"
        }
    },
    "nbformat": 4,
    "nbformat_minor": 2
}