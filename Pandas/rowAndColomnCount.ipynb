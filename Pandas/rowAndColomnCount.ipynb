{
    "cells": [
        {
            "cell_type": "code",
            "execution_count": null,
            "source": [
                "\"\"\"\n",
                "@Author: Swapnil Bhoyar\n",
                "@Date: 2021-07-12 \n",
                "@Last Modified by: Swapnil Bhoyar\n",
                "@Last Modified time: 2021-08-12\n",
                "@Title : Write a Python program to count the number of rows and columns of a DataFrame.\n",
                "\"\"\"\n",
                "import pandas as pd\n",
                "import numpy as np\n",
                "import Log\n",
                "\n",
                "def rowAndColomnCount():\n",
                "    try:\n",
                "        exam_data  = {'name': ['Anastasia', 'Dima', 'Katherine', 'James', 'Emily', 'Michael', 'Matthew', 'Laura', 'Kevin', 'Jonas'],\n",
                "            'score': [12.5, 9, 16.5, np.nan, 9, 20, 14.5, np.nan, 8, 19],\n",
                "            'attempts': [1, 3, 2, 3, 2, 3, 1, 1, 2, 1],\n",
                "            'qualify': ['yes', 'no', 'yes', 'no', 'no', 'yes', 'yes', 'no', 'no', 'yes']}\n",
                "        labels = ['a', 'b', 'c', 'd', 'e', 'f', 'g', 'h', 'i', 'j']\n",
                "\n",
                "        tempDataframe = pd.DataFrame(exam_data , index=labels)\n",
                "        Log.logging.info(\"rowCount\")\n",
                "        Log.logging.info(len(tempDataframe.axes[0]))\n",
                "\n",
                "        Log.logging.info(\"colomnCount\")\n",
                "        Log.logging.info(len(tempDataframe.axes[1]))\n",
                "    except Exception as e:\n",
                "        Log.logging.info(e)\n",
                "\n",
                "rowAndColomnCount()"
            ],
            "outputs": [],
            "metadata": {}
        }
    ],
    "metadata": {
        "orig_nbformat": 4,
        "language_info": {
            "name": "python"
        }
    },
    "nbformat": 4,
    "nbformat_minor": 2
}