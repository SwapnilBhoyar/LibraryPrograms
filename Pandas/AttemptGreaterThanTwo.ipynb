{
    "cells": [
        {
            "cell_type": "code",
            "execution_count": 1,
            "source": [
                "\"\"\"\n",
                "@Author: Swapnil Bhoyar\n",
                "@Date: 2021-07-12 \n",
                "@Last Modified by: Swapnil Bhoyar\n",
                "@Last Modified time: 2021-08-12\n",
                "@Title : Write a Python program to select the rows where the number of attempts in the\n",
                "examination is greater than 2.\n",
                "\"\"\"\n",
                "import pandas as pd\n",
                "import numpy as np\n",
                "import Log\n",
                "\n",
                "def attemptGreaterThanTwo():\n",
                "    try:\n",
                "        exam_data  = {'name': ['Anastasia', 'Dima', 'Katherine', 'James', 'Emily', 'Michael', 'Matthew', 'Laura', 'Kevin', 'Jonas'],\n",
                "            'score': [12.5, 9, 16.5, np.nan, 9, 20, 14.5, np.nan, 8, 19],\n",
                "            'attempts': [1, 3, 2, 3, 2, 3, 1, 1, 2, 1],\n",
                "            'qualify': ['yes', 'no', 'yes', 'no', 'no', 'yes', 'yes', 'no', 'no', 'yes']}\n",
                "        labels = ['a', 'b', 'c', 'd', 'e', 'f', 'g', 'h', 'i', 'j']\n",
                "\n",
                "        tempDataframe = pd.DataFrame(exam_data , index=labels)\n",
                "        Log.logging.info(tempDataframe[tempDataframe['attempts'] > 2])\n",
                "    except Exception as e:\n",
                "        Log.logging.info(e)\n",
                "\n",
                "attemptGreaterThanTwo()"
            ],
            "outputs": [
                {
                    "output_type": "error",
                    "ename": "SyntaxError",
                    "evalue": "closing parenthesis ']' does not match opening parenthesis '(' (768091655.py, line 22)",
                    "traceback": [
                        "\u001b[0;36m  File \u001b[0;32m\"/tmp/ipykernel_20338/768091655.py\"\u001b[0;36m, line \u001b[0;32m22\u001b[0m\n\u001b[0;31m    Log.logging.info(tempDataframe[tempDataframe['attempts'] > 2]])\u001b[0m\n\u001b[0m                                                                 ^\u001b[0m\n\u001b[0;31mSyntaxError\u001b[0m\u001b[0;31m:\u001b[0m closing parenthesis ']' does not match opening parenthesis '('\n"
                    ]
                }
            ],
            "metadata": {}
        }
    ],
    "metadata": {
        "orig_nbformat": 4,
        "language_info": {
            "name": "python"
        }
    },
    "nbformat": 4,
    "nbformat_minor": 2
}