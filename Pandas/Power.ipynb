{
    "cells": [
        {
            "cell_type": "code",
            "execution_count": 1,
            "source": [
                "\"\"\"\n",
                "@Author: Swapnil Bhoyar\n",
                "@Date: 2021-07-12 \n",
                "@Last Modified by: Swapnil Bhoyar\n",
                "@Last Modified time: 2021-08-12\n",
                "@Title : Write a Python program to get the powers of an array values element-wise.\n",
                "\"\"\"\n",
                "import pandas as pd\n",
                "import numpy as np\n",
                "import Log\n",
                "\n",
                "def power():\n",
                "    try:\n",
                "        numberArray = np.arange(7)\n",
                "        Log.logging.info(np.power(numberArray, 3))\n",
                "    except Exception as e:\n",
                "        Log.logging.error(e)\n",
                "\n",
                "power()"
            ],
            "outputs": [],
            "metadata": {}
        }
    ],
    "metadata": {
        "orig_nbformat": 4,
        "language_info": {
            "name": "python"
        }
    },
    "nbformat": 4,
    "nbformat_minor": 2
}