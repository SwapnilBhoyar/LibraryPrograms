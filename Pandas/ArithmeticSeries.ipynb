{
    "cells": [
        {
            "cell_type": "code",
            "execution_count": null,
            "source": [
                "\"\"\"\n",
                "@Author: Swapnil Bhoyar\n",
                "@Date: 2021-07-12 \n",
                "@Last Modified by: Swapnil Bhoyar\n",
                "@Last Modified time: 2021-08-12\n",
                "@Title : Write a Python program to add, subtract, multiple and divide two Pandas Series.\n",
                "\"\"\"\n",
                "import pandas as pd\n",
                "import Log\n",
                "def arithmeticSeries():\n",
                "    try:\n",
                "        firstSeries = pd.Series([2, 4, 6, 8, 10])\n",
                "        secondSeries = pd.Series([1, 3, 5, 7, 9])\n",
                "        resultSeries = firstSeries + secondSeries\n",
                "        print(\"Add two Series:\")\n",
                "        print(resultSeries)\n",
                "\n",
                "        print(\"Subtract two Series:\")\n",
                "        resultSeries = firstSeries - secondSeries\n",
                "        print(resultSeries)\n",
                "\n",
                "        print(\"Multiply two Series:\")\n",
                "        resultSeries = firstSeries * secondSeries\n",
                "        print(resultSeries)\n",
                "\n",
                "        print(\"Divide Series1 by Series2:\")\n",
                "        resultSeries = firstSeries / secondSeries\n",
                "        print(resultSeries)\n",
                "    except Exception as e:\n",
                "        Log.logging.error(e)"
            ],
            "outputs": [],
            "metadata": {}
        }
    ],
    "metadata": {
        "orig_nbformat": 4,
        "language_info": {
            "name": "python"
        }
    },
    "nbformat": 4,
    "nbformat_minor": 2
}