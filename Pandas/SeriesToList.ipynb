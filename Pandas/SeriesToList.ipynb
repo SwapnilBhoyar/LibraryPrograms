{
    "cells": [
        {
            "cell_type": "code",
            "execution_count": 2,
            "source": [
                "\"\"\"\n",
                "@Author: Swapnil Bhoyar\n",
                "@Date: 2021-07-12 \n",
                "@Last Modified by: Swapnil Bhoyar\n",
                "@Last Modified time: 2021-08-12\n",
                "@Title : convert a Panda module Series to Python list and it’s type.\n",
                "\"\"\"\n",
                "import pandas as pd\n",
                "import Log\n",
                "\n",
                "def seriesToList():\n",
                "    try:\n",
                "        pandaSeries = pd.Series([2, 4, 6, 8, 10])\n",
                "        Log.logging.info(\"Pandas Series and type\")\n",
                "        Log.logging.info(pandaSeries)\n",
                "        Log.logging.info(type(pandaSeries))\n",
                "        \n",
                "        Log.logging.info(\"Convert Pandas Series to Python list\")\n",
                "        Log.logging.info(pandaSeries.tolist())\n",
                "        Log.logging.info(type(pandaSeries.tolist()))\n",
                "    except Exceptio as e:\n",
                "        Log.logging.error(e)\n",
                "\n",
                "seriesToList()"
            ],
            "outputs": [
                {
                    "output_type": "error",
                    "ename": "SyntaxError",
                    "evalue": "invalid syntax (1308584778.py, line 12)",
                    "traceback": [
                        "\u001b[0;36m  File \u001b[0;32m\"/tmp/ipykernel_8907/1308584778.py\"\u001b[0;36m, line \u001b[0;32m12\u001b[0m\n\u001b[0;31m    try\u001b[0m\n\u001b[0m       ^\u001b[0m\n\u001b[0;31mSyntaxError\u001b[0m\u001b[0;31m:\u001b[0m invalid syntax\n"
                    ]
                }
            ],
            "metadata": {}
        }
    ],
    "metadata": {
        "orig_nbformat": 4,
        "language_info": {
            "name": "python"
        }
    },
    "nbformat": 4,
    "nbformat_minor": 2
}