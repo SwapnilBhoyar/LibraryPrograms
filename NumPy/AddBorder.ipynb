{
    "cells": [
        {
            "cell_type": "code",
            "execution_count": null,
            "source": [
                "import numpy as np\n",
                "import Log\n",
                "\n",
                "def addBorder():\n",
                "    \"\"\"\n",
                "    Description:\n",
                "        this function add pading to array\n",
                "    \"\"\"\n",
                "    try:\n",
                "        tempArray = np.ones((3, 3))\n",
                "        tempArray = np.pad(tempArray, pad_width=1, mode='constant', constant_values=0)\n",
                "        Log.logging.info(tempArray)\n",
                "    except Exception as e:\n",
                "        Log.logging.error(e)\n",
                "\n",
                "addBorder()"
            ],
            "outputs": [],
            "metadata": {}
        }
    ],
    "metadata": {
        "orig_nbformat": 4,
        "language_info": {
            "name": "python"
        }
    },
    "nbformat": 4,
    "nbformat_minor": 2
}