{
    "cells": [
        {
            "cell_type": "code",
            "execution_count": null,
            "source": [
                "import numpy as np\n",
                "import Log\n",
                "\n",
                "def ListToArray():\n",
                "    \"\"\"\n",
                "    Description:\n",
                "        this function convert list to numpy array\n",
                "    \"\"\"\n",
                "    try:\n",
                "        numberList = [21, 34, 45, 56]\n",
                "        numberArray = np.array(numberList)\n",
                "        Log.logging.info(numberArray)\n",
                "    except Exception as e:\n",
                "        Log.logging.error(e)\n",
                "\n",
                "ListToArray()\n",
                "def appendToArray():\n",
                "    \"\"\"\n",
                "    Description:\n",
                "        this function append at the end\n",
                "    \"\"\"\n",
                "    try:\n",
                "        numberList = [10, 20, 30]\n",
                "        numberList = np.append(numberList, [40, 50, 60, 70])\n",
                "        Log.logging.info(numberList)\n",
                "    except Exception as e:\n",
                "        Log.logging.error(e)\n",
                "\n",
                "appendToArray()"
            ],
            "outputs": [],
            "metadata": {}
        }
    ],
    "metadata": {
        "orig_nbformat": 4,
        "language_info": {
            "name": "python"
        }
    },
    "nbformat": 4,
    "nbformat_minor": 2
}