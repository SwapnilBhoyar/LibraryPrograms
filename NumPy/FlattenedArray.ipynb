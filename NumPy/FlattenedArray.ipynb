{
    "cells": [
        {
            "cell_type": "code",
            "execution_count": null,
            "source": [
                "import numpy as np\n",
                "import Log\n",
                "\n",
                "def flattenedArray():\n",
                "    \"\"\"\n",
                "    Description:\n",
                "        this function flattened the array\n",
                "    \"\"\"\n",
                "    try:\n",
                "        numberArray = np.array([[10, 20, 30],[20, 40, 50]])\n",
                "        flattenedArray = np.ravel(numberArray)\n",
                "        Log.logging.info(flattenedArray)\n",
                "    except Exception as e:\n",
                "        Log.logging.error(e)\n",
                "\n",
                "flattenedArray()"
            ],
            "outputs": [],
            "metadata": {}
        }
    ],
    "metadata": {
        "orig_nbformat": 4,
        "language_info": {
            "name": "python"
        }
    },
    "nbformat": 4,
    "nbformat_minor": 2
}