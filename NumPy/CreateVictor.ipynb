{
    "cells": [
        {
            "cell_type": "code",
            "execution_count": null,
            "source": [
                "import numpy as np\n",
                "import Log\n",
                "\n",
                "def createVictor():\n",
                "    \"\"\"\n",
                "    Description:\n",
                "        this function create victor\n",
                "    \"\"\"\n",
                "    try:\n",
                "        zeroVictor = np.zeros(10)\n",
                "        zeroVictor[6] = 11\n",
                "        Log.logging.info(zeroVictor)\n",
                "    except Exception as e:\n",
                "        Log.logging.error(e)\n",
                "\n",
                "createVictor()"
            ],
            "outputs": [],
            "metadata": {}
        }
    ],
    "metadata": {
        "orig_nbformat": 4,
        "language_info": {
            "name": "python"
        }
    },
    "nbformat": 4,
    "nbformat_minor": 2
}