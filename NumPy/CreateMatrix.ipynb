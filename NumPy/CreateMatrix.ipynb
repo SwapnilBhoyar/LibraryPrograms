{
    "cells": [
        {
            "cell_type": "code",
            "execution_count": null,
            "source": [
                "import numpy as np\n",
                "import Log\n",
                "\n",
                "def createMatrix():\n",
                "    \"\"\"\n",
                "    Description:\n",
                "        this function create matrix.\n",
                "    \"\"\"\n",
                "    try:\n",
                "        numberMatrix = np.arange(2, 11).reshape(3, 3)\n",
                "        Log.logging.info(numberMatrix)\n",
                "    except Exception as e:\n",
                "        Log.logging.error(e)\n",
                "\n",
                "createMatrix()"
            ],
            "outputs": [],
            "metadata": {}
        }
    ],
    "metadata": {
        "orig_nbformat": 4,
        "language_info": {
            "name": "python"
        }
    },
    "nbformat": 4,
    "nbformat_minor": 2
}