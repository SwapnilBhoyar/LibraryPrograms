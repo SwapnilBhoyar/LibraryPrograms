{
    "cells": [
        {
            "cell_type": "code",
            "execution_count": null,
            "source": [
                "import numpy as np\n",
                "import Log\n",
                "\n",
                "def ListToArray():\n",
                "    \"\"\"\n",
                "    Description:\n",
                "        this function convert list to numpy array\n",
                "    \"\"\"\n",
                "    try:\n",
                "        numberList = [21, 34, 45, 56]\n",
                "        numberArray = np.array(numberList)\n",
                "        Log.logging.info(numberArray)\n",
                "    except Exception as e:\n",
                "        Log.logging.error(e)\n",
                "\n",
                "ListToArray()\n",
                "def convertToArray():\n",
                "    \"\"\"\n",
                "    Description:\n",
                "        this function convert list and tuple to array\n",
                "    \"\"\"\n",
                "    try:\n",
                "        tempList = [1, 2, 3, 4, 5, 6, 7, 8]\n",
                "        tempArray = np.asarray(tempList)\n",
                "        Log.logging.info(tempArray)\n",
                "        tempTuple = ([8, 4, 6],[1, 2, 3])\n",
                "        tempArray = np.asarray(tempTuple)\n",
                "        Log.logging.info(tempTuple)\n",
                "    except Exception as e:\n",
                "        Log.logging.error(e)\n",
                "\n",
                "convertToArray()"
            ],
            "outputs": [],
            "metadata": {}
        }
    ],
    "metadata": {
        "orig_nbformat": 4,
        "language_info": {
            "name": "python"
        }
    },
    "nbformat": 4,
    "nbformat_minor": 2
}