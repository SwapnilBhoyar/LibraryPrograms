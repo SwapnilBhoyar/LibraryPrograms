{
    "cells": [
        {
            "cell_type": "code",
            "execution_count": null,
            "source": [
                "import numpy as np\n",
                "import Log\n",
                "\n",
                "def realAndImaginary():\n",
                "    \"\"\"\n",
                "    Descriptio:\n",
                "        this function print real and imagenary part\n",
                "    \"\"\"\n",
                "    x = np.sqrt([1+0j])\n",
                "    y = np.sqrt([0+1j])\n",
                "    Log.logging.info(\"Real part of array:\")\n",
                "    Log.logging.info(x.real)\n",
                "    Log.logging.info(y.real)\n",
                "    Log.logging.info(\"Imagenary part of array:\")\n",
                "    Log.logging.info(x.imag)\n",
                "    Log.logging.info(y.imag)\n",
                "\n",
                "realAndImaginary()"
            ],
            "outputs": [],
            "metadata": {}
        }
    ],
    "metadata": {
        "orig_nbformat": 4,
        "language_info": {
            "name": "python"
        }
    },
    "nbformat": 4,
    "nbformat_minor": 2
}