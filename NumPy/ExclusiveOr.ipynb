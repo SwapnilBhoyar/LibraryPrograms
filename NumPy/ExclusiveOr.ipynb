{
    "cells": [
        {
            "cell_type": "code",
            "execution_count": null,
            "source": [
                "import numpy as np\n",
                "import Log\n",
                "\n",
                "def exclusiveOr():\n",
                "    \"\"\"\n",
                "    Description:\n",
                "        this function find unique element from both array\n",
                "    \"\"\"\n",
                "    try:\n",
                "        firstArray = np.array([0, 10, 20, 40, 60, 80])\n",
                "        secondArray = np.array([10, 30, 40, 50, 70])\n",
                "        Log.logging.info(np.setxor1d(firstArray, secondArray))\n",
                "    except Exception as e:\n",
                "        Log.logging.info(e)\n",
                "\n",
                "exclusiveOr()"
            ],
            "outputs": [],
            "metadata": {}
        }
    ],
    "metadata": {
        "orig_nbformat": 4,
        "language_info": {
            "name": "python"
        }
    },
    "nbformat": 4,
    "nbformat_minor": 2
}