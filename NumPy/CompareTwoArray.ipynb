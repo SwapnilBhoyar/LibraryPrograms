{
    "cells": [
        {
            "cell_type": "code",
            "execution_count": null,
            "source": [
                "import numpy as np\n",
                "import Log\n",
                "\n",
                "def compareTwoArray():\n",
                "    \"\"\"\n",
                "    Description:\n",
                "        this function compare two array.\n",
                "    \"\"\"\n",
                "    try:\n",
                "        firstArray = np.array([1, 2])\n",
                "        secondArray = np.array([4, 5])\n",
                "\n",
                "        Log.logging.info(\"a > b\")\n",
                "        Log.logging.info(np.greater(firstArray, secondArray))\n",
                "\n",
                "        Log.logging.info(\"a >= b\")\n",
                "        Log.logging.info(np.greater_equal(firstArray, secondArray))\n",
                "\n",
                "        Log.logging.info(\"a < b\")\n",
                "        Log.logging.info(np.less(firstArray, secondArray))\n",
                "        \n",
                "        Log.logging.info(\"a <= b\")\n",
                "        Log.logging.info(np.less_equal(firstArray, secondArray))\n",
                "    except Exception as e:\n",
                "        Log.logging.info(e)\n",
                "\n",
                "compareTwoArray()"
            ],
            "outputs": [],
            "metadata": {}
        }
    ],
    "metadata": {
        "orig_nbformat": 4,
        "language_info": {
            "name": "python"
        }
    },
    "nbformat": 4,
    "nbformat_minor": 2
}