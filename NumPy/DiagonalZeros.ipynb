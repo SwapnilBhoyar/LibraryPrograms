{
    "cells": [
        {
            "cell_type": "code",
            "execution_count": null,
            "source": [
                "import numpy as np\n",
                "import Log\n",
                "\n",
                "def diagonalZeros():\n",
                "    \"\"\"\n",
                "    Description:\n",
                "        this function create diagonal 3d array\n",
                "    \"\"\"\n",
                "    try:\n",
                "        tempArray = np.eye(3)\n",
                "        Log.logging.info(tempArray)\n",
                "    except Exception as e:\n",
                "        Log.logging.error(e)\n",
                "\n",
                "diagonalZeros()"
            ],
            "outputs": [],
            "metadata": {}
        }
    ],
    "metadata": {
        "orig_nbformat": 4,
        "language_info": {
            "name": "python"
        }
    },
    "nbformat": 4,
    "nbformat_minor": 2
}