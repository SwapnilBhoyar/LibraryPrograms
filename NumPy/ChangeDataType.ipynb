{
    "cells": [
        {
            "cell_type": "code",
            "execution_count": null,
            "source": [
                "import numpy as np\n",
                "import Log\n",
                "\n",
                "def changeDataType():\n",
                "    \"\"\"\n",
                "    Description:\n",
                "        this function change data type of array\n",
                "    \"\"\"\n",
                "    try:\n",
                "        intArray = np.array([[2, 4, 6],[6, 8, 10]], np.int32)\n",
                "        floatArray = intArray.astype(float)\n",
                "        Log.logging.info(floatArray.dtype)\n",
                "    except Exception as e:\n",
                "        Log.logging.error(e)\n",
                "\n",
                "changeDataType()"
            ],
            "outputs": [],
            "metadata": {}
        }
    ],
    "metadata": {
        "orig_nbformat": 4,
        "language_info": {
            "name": "python"
        }
    },
    "nbformat": 4,
    "nbformat_minor": 2
}