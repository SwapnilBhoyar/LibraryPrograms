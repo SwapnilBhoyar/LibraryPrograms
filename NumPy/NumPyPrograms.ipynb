{
    "cells": [
        {
            "cell_type": "code",
            "execution_count": 1,
            "source": [
                "\"\"\"\n",
                "@Author: Swapnil Bhoyar\n",
                "@Date: 2021-07-11 18:16:00\n",
                "@Last Modified by: Swapnil Bhoyar\n",
                "@Last Modified time: 2021-08-11 18:16:00\n",
                "@Title : Write a Python program to convert a list of numeric value into a one-dimensional\n",
                "NumPy array.\n",
                "\"\"\""
            ],
            "outputs": [],
            "metadata": {}
        },
        {
            "cell_type": "code",
            "execution_count": 5,
            "source": [
                "import numpy as np\n",
                "import Log"
            ],
            "outputs": [],
            "metadata": {}
        },
        {
            "cell_type": "markdown",
            "source": [
                "Write a Python program to convert a list of numeric value into a one-dimensional NumPy array."
            ],
            "metadata": {}
        },
        {
            "cell_type": "code",
            "execution_count": null,
            "source": [
                "def ListToArray():\n",
                "    \"\"\"\n",
                "    Description:\n",
                "        this function convert list to numpy array\n",
                "    \"\"\"\n",
                "    try:\n",
                "        numberList = [21, 34, 45, 56]\n",
                "        numberArray = np.array(numberList)\n",
                "        Log.logging.info(numberArray)\n",
                "    except Exception as e:\n",
                "        Log.logging.error(e)\n",
                "\n",
                "ListToArray()"
            ],
            "outputs": [],
            "metadata": {}
        },
        {
            "cell_type": "markdown",
            "source": [
                "Create a 3x3 matrix with values ranging from 2 to 10."
            ],
            "metadata": {}
        },
        {
            "cell_type": "code",
            "execution_count": 3,
            "source": [
                "def createMatrix():\n",
                "    \"\"\"\n",
                "    Description:\n",
                "        this function create matrix.\n",
                "    \"\"\"\n",
                "    try:\n",
                "        numberMatrix = np.arange(2, 11).reshape(3, 3)\n",
                "        Log.logging.info(numberMatrix)\n",
                "    except Exception as e:\n",
                "        Log.logging.error(e)\n",
                "\n",
                "createMatrix()"
            ],
            "outputs": [],
            "metadata": {}
        },
        {
            "cell_type": "markdown",
            "source": [
                "Write a Python program to create a null vector of size 10 and update sixth value to 11."
            ],
            "metadata": {}
        },
        {
            "cell_type": "code",
            "execution_count": 4,
            "source": [
                "def createVictor():\n",
                "    \"\"\"\n",
                "    Description:\n",
                "        this function create victor\n",
                "    \"\"\"\n",
                "    try:\n",
                "        zeroVictor = np.zeros(10)\n",
                "        zeroVictor[6] = 11\n",
                "        Log.logging.info(zeroVictor)\n",
                "    except Exception as e:\n",
                "        Log.logging.error(e)\n",
                "\n",
                "createVictor()"
            ],
            "outputs": [],
            "metadata": {}
        },
        {
            "cell_type": "markdown",
            "source": [
                "Write a Python program to reverse an array (first element becomes last).\n",
                "Original array:\n",
                "[12 13 14 15 16 17 18 19 20 21 22 23 24 25 26 27 28 29 30 31 32 33 34 35 36 37]\n",
                "Reverse array:\n",
                "[37 36 35 34 33 32 31 30 29 28 27 26 25 24 23 22 21 20 19 18 17 16 15 14 13 12]"
            ],
            "metadata": {}
        },
        {
            "cell_type": "code",
            "execution_count": 6,
            "source": [
                "def reverseArray():\n",
                "    \"\"\"\n",
                "    Description:\n",
                "        this function reverse the array\n",
                "    \"\"\"\n",
                "    try:\n",
                "        numberArray = np.arange(12, 38)\n",
                "        numberArray = numberArray[::-1]\n",
                "        Log.logging.info(numberArray)\n",
                "    except Exception as e:\n",
                "        Log.logging.error(e)\n",
                "\n",
                "reverseArray()"
            ],
            "outputs": [],
            "metadata": {}
        }
    ],
    "metadata": {
        "orig_nbformat": 4,
        "language_info": {
            "name": "python"
        }
    },
    "nbformat": 4,
    "nbformat_minor": 2
}