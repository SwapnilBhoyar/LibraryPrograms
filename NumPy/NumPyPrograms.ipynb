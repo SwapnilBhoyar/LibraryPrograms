{
    "cells": [
        {
            "cell_type": "code",
            "execution_count": 1,
            "source": [
                "\"\"\"\n",
                "@Author: Swapnil Bhoyar\n",
                "@Date: 2021-07-11 18:16:00\n",
                "@Last Modified by: Swapnil Bhoyar\n",
                "@Last Modified time: 2021-08-11 18:16:00\n",
                "@Title : Write a Python program to convert a list of numeric value into a one-dimensional\n",
                "NumPy array.\n",
                "\"\"\""
            ],
            "outputs": [],
            "metadata": {}
        },
        {
            "cell_type": "code",
            "execution_count": 5,
            "source": [
                "import numpy as np\n",
                "import Log"
            ],
            "outputs": [],
            "metadata": {}
        },
        {
            "cell_type": "markdown",
            "source": [
                "Write a Python program to convert a list of numeric value into a one-dimensional NumPy array."
            ],
            "metadata": {}
        },
        {
            "cell_type": "code",
            "execution_count": null,
            "source": [
                "def ListToArray():\n",
                "    \"\"\"\n",
                "    Description:\n",
                "        this function convert list to numpy array\n",
                "    \"\"\"\n",
                "    try:\n",
                "        numberList = [21, 34, 45, 56]\n",
                "        numberArray = np.array(numberList)\n",
                "        Log.logging.info(numberArray)\n",
                "    except Exception as e:\n",
                "        Log.logging.error(e)\n",
                "\n",
                "ListToArray()"
            ],
            "outputs": [],
            "metadata": {}
        },
        {
            "cell_type": "markdown",
            "source": [
                "Create a 3x3 matrix with values ranging from 2 to 10."
            ],
            "metadata": {}
        },
        {
            "cell_type": "code",
            "execution_count": 3,
            "source": [
                "def createMatrix():\n",
                "    \"\"\"\n",
                "    Description:\n",
                "        this function create matrix.\n",
                "    \"\"\"\n",
                "    try:\n",
                "        numberMatrix = np.arange(2, 11).reshape(3, 3)\n",
                "        Log.logging.info(numberMatrix)\n",
                "    except Exception as e:\n",
                "        Log.logging.error(e)\n",
                "\n",
                "createMatrix()"
            ],
            "outputs": [],
            "metadata": {}
        },
        {
            "cell_type": "markdown",
            "source": [
                "Write a Python program to create a null vector of size 10 and update sixth value to 11."
            ],
            "metadata": {}
        },
        {
            "cell_type": "code",
            "execution_count": 4,
            "source": [
                "def createVictor():\n",
                "    \"\"\"\n",
                "    Description:\n",
                "        this function create victor\n",
                "    \"\"\"\n",
                "    try:\n",
                "        zeroVictor = np.zeros(10)\n",
                "        zeroVictor[6] = 11\n",
                "        Log.logging.info(zeroVictor)\n",
                "    except Exception as e:\n",
                "        Log.logging.error(e)\n",
                "\n",
                "createVictor()"
            ],
            "outputs": [],
            "metadata": {}
        },
        {
            "cell_type": "markdown",
            "source": [
                "Write a Python program to reverse an array (first element becomes last).\n",
                "Original array:\n",
                "[12 13 14 15 16 17 18 19 20 21 22 23 24 25 26 27 28 29 30 31 32 33 34 35 36 37]\n",
                "Reverse array:\n",
                "[37 36 35 34 33 32 31 30 29 28 27 26 25 24 23 22 21 20 19 18 17 16 15 14 13 12]"
            ],
            "metadata": {}
        },
        {
            "cell_type": "code",
            "execution_count": 6,
            "source": [
                "def reverseArray():\n",
                "    \"\"\"\n",
                "    Description:\n",
                "        this function reverse the array\n",
                "    \"\"\"\n",
                "    try:\n",
                "        numberArray = np.arange(12, 38)\n",
                "        numberArray = numberArray[::-1]\n",
                "        Log.logging.info(numberArray)\n",
                "    except Exception as e:\n",
                "        Log.logging.error(e)\n",
                "\n",
                "reverseArray()"
            ],
            "outputs": [],
            "metadata": {}
        },
        {
            "cell_type": "markdown",
            "source": [
                "Write a Python program to create a 2d array with 1 on the border and 0 inside.\n",
                "Expected Output:\n",
                "Original array:\n",
                "[[ 1. 1. 1. 1. 1.]\n",
                "[ 1. 1. 1. 1. 1.]\n",
                "[ 1. 1. 1. 1. 1.]\n",
                "[ 1. 1. 1. 1. 1.]\n",
                "[ 1. 1. 1. 1. 1.]]\n",
                "1 on the border and 0 inside in the array\n",
                "[[ 1. 1. 1. 1. 1.]\n",
                "[ 1. 0. 0. 0. 1.]\n",
                "[ 1. 0. 0. 0. 1.]\n",
                "[ 1. 0. 0. 0. 1.]\n",
                "[ 1. 1. 1. 1. 1.]]"
            ],
            "metadata": {}
        },
        {
            "cell_type": "code",
            "execution_count": 7,
            "source": [
                "def twoDArray():\n",
                "    \"\"\"\n",
                "    Description:\n",
                "        this function create padding\n",
                "    \"\"\"\n",
                "    try:\n",
                "        numberArray = np.zeros((4, 4))\n",
                "        numberArray = np.pad(numberArray, pad_width=1, mode='constant', constant_values=1)\n",
                "        Log.logging.info(numberArray)\n",
                "    except Exception as e:\n",
                "        Log.logging.error(e)\n",
                "\n",
                "twoDArray()"
            ],
            "outputs": [],
            "metadata": {}
        },
        {
            "cell_type": "markdown",
            "source": [
                "Write a Python program to add a border (filled with 0's) around an existing array."
            ],
            "metadata": {}
        },
        {
            "cell_type": "code",
            "execution_count": 8,
            "source": [
                "def addBorder():\n",
                "    \"\"\"\n",
                "    Description:\n",
                "        this function add pading to array\n",
                "    \"\"\"\n",
                "    try:\n",
                "        tempArray = np.ones((3, 3))\n",
                "        tempArray = np.pad(tempArray, pad_width=1, mode='constant', constant_values=0)\n",
                "        Log.logging.info(tempArray)\n",
                "    except Exception as e:\n",
                "        Log.logging.error(e)\n",
                "\n",
                "addBorder()"
            ],
            "outputs": [],
            "metadata": {}
        },
        {
            "cell_type": "markdown",
            "source": [
                "Write a Python program to create a 8x8 matrix and fill it with a checkerboard pattern."
            ],
            "metadata": {}
        },
        {
            "cell_type": "code",
            "execution_count": 12,
            "source": [
                "def checkerBoard():\n",
                "    \"\"\"\n",
                "    Description:\n",
                "        this function create checkerboard.\n",
                "    \"\"\"\n",
                "    try:\n",
                "        tempArray = np.zeros((8, 8))\n",
                "        tempArray[1::2,::2] = 1\n",
                "        tempArray[::2,1::2] = 1\n",
                "        Log.logging.info(tempArray)\n",
                "    except Exception as e:\n",
                "        Log.logging.error(e)\n",
                "\n",
                "checkerBoard()"
            ],
            "outputs": [],
            "metadata": {}
        },
        {
            "cell_type": "markdown",
            "source": [
                "Write a Python program to convert a list and tuple into arrays.\n",
                "List to array:\n",
                "[1 2 3 4 5 6 7 8]\n",
                "Tuple to array:\n",
                "[[8 4 6]\n",
                "[1 2 3]]"
            ],
            "metadata": {}
        },
        {
            "cell_type": "code",
            "execution_count": 13,
            "source": [
                "def convertToArray():\n",
                "    try:\n",
                "        tempList = [1, 2, 3, 4, 5, 6, 7, 8]\n",
                "        tempArray = np.asarray(tempList)\n",
                "        Log.logging.info(tempArray)\n",
                "        tempTuple = ([8, 4, 6],[1, 2, 3])\n",
                "        tempArray = np.asarray(tempTuple)\n",
                "        Log.logging.info(tempTuple)\n",
                "    except Exception as e:\n",
                "        Log.logging.error(e)\n",
                "\n",
                "convertToArray()"
            ],
            "outputs": [
                {
                    "output_type": "stream",
                    "name": "stderr",
                    "text": [
                        "<>:6: SyntaxWarning: list indices must be integers or slices, not tuple; perhaps you missed a comma?\n",
                        "<>:6: SyntaxWarning: list indices must be integers or slices, not tuple; perhaps you missed a comma?\n",
                        "/tmp/ipykernel_21121/156248079.py:6: SyntaxWarning: list indices must be integers or slices, not tuple; perhaps you missed a comma?\n",
                        "  tempTuple = ([8, 4, 6][1, 2, 3])\n"
                    ]
                }
            ],
            "metadata": {}
        }
    ],
    "metadata": {
        "orig_nbformat": 4,
        "language_info": {
            "name": "python"
        }
    },
    "nbformat": 4,
    "nbformat_minor": 2
}