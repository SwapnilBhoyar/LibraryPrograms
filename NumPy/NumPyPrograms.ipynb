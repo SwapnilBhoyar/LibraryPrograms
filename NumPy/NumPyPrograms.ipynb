{
    "cells": [
        {
            "cell_type": "code",
            "execution_count": 1,
            "source": [
                "\"\"\"\n",
                "@Author: Swapnil Bhoyar\n",
                "@Date: 2021-07-11 18:16:00\n",
                "@Last Modified by: Swapnil Bhoyar\n",
                "@Last Modified time: 2021-08-11 18:16:00\n",
                "@Title : Write a Python program to convert a list of numeric value into a one-dimensional\n",
                "NumPy array.\n",
                "\"\"\""
            ],
            "outputs": [],
            "metadata": {}
        },
        {
            "cell_type": "code",
            "execution_count": 2,
            "source": [
                "import numpy as np\n",
                "import Log"
            ],
            "outputs": [],
            "metadata": {}
        },
        {
            "cell_type": "markdown",
            "source": [
                "1. Write a Python program to convert a list of numeric value into a one-dimensional NumPy array."
            ],
            "metadata": {}
        },
        {
            "cell_type": "code",
            "execution_count": null,
            "source": [
                "def ListToArray():\n",
                "    \"\"\"\n",
                "    Description:\n",
                "        this function convert list to numpy array\n",
                "    \"\"\"\n",
                "    try:\n",
                "        numberList = [21, 34, 45, 56]\n",
                "        numberArray = np.array(numberList)\n",
                "        Log.logging.info(numberArray)\n",
                "    except Exception as e:\n",
                "        Log.logging.error(e)\n",
                "\n",
                "ListToArray()"
            ],
            "outputs": [],
            "metadata": {}
        },
        {
            "cell_type": "markdown",
            "source": [
                "2. Create a 3x3 matrix with values ranging from 2 to 10."
            ],
            "metadata": {}
        },
        {
            "cell_type": "code",
            "execution_count": 3,
            "source": [
                "def createMatrix():\n",
                "    \"\"\"\n",
                "    Description:\n",
                "        this function create matrix.\n",
                "    \"\"\"\n",
                "    try:\n",
                "        numberMatrix = np.arange(2, 11).reshape(3, 3)\n",
                "        Log.logging.info(numberMatrix)\n",
                "    except Exception as e:\n",
                "        Log.logging.error(e)\n",
                "\n",
                "createMatrix()"
            ],
            "outputs": [],
            "metadata": {}
        }
    ],
    "metadata": {
        "orig_nbformat": 4,
        "language_info": {
            "name": "python"
        }
    },
    "nbformat": 4,
    "nbformat_minor": 2
}