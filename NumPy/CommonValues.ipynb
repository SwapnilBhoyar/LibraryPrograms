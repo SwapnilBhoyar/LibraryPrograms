{
    "cells": [
        {
            "cell_type": "code",
            "execution_count": null,
            "source": [
                "import numpy as np\n",
                "import Log\n",
                "\n",
                "def commonValues():\n",
                "    \"\"\"\n",
                "    Description:\n",
                "        this function find common values\n",
                "    \"\"\"\n",
                "    try:\n",
                "        firstArray = np.array([0, 10, 20, 40, 60])\n",
                "        secondArray = np.array([10, 40])\n",
                "\n",
                "        Log.logging.info(np.intersect1d(firstArray, secondArray))\n",
                "    except Exception as e:\n",
                "        Log.logging.error(e)\n",
                "\n",
                "commonValues()"
            ],
            "outputs": [],
            "metadata": {}
        }
    ],
    "metadata": {
        "orig_nbformat": 4,
        "language_info": {
            "name": "python"
        }
    },
    "nbformat": 4,
    "nbformat_minor": 2
}