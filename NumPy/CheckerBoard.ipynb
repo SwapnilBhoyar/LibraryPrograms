{
    "cells": [
        {
            "cell_type": "code",
            "execution_count": null,
            "source": [
                "import numpy as np\n",
                "import Log\n",
                "\n",
                "def checkerBoard():\n",
                "    \"\"\"\n",
                "    Description:\n",
                "        this function create checkerboard.\n",
                "    \"\"\"\n",
                "    try:\n",
                "        tempArray = np.zeros((8, 8))\n",
                "        tempArray[1::2,::2] = 1\n",
                "        tempArray[::2,1::2] = 1\n",
                "        Log.logging.info(tempArray)\n",
                "    except Exception as e:\n",
                "        Log.logging.error(e)\n",
                "\n",
                "checkerBoard()"
            ],
            "outputs": [],
            "metadata": {}
        }
    ],
    "metadata": {
        "orig_nbformat": 4,
        "language_info": {
            "name": "python"
        }
    },
    "nbformat": 4,
    "nbformat_minor": 2
}