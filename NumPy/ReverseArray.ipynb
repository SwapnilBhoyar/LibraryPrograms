{
    "cells": [
        {
            "cell_type": "code",
            "execution_count": null,
            "source": [
                "import numpy as np\n",
                "import Log\n",
                "\n",
                "def ListToArray():\n",
                "    \"\"\"\n",
                "    Description:\n",
                "        this function convert list to numpy array\n",
                "    \"\"\"\n",
                "    try:\n",
                "        numberList = [21, 34, 45, 56]\n",
                "        numberArray = np.array(numberList)\n",
                "        Log.logging.info(numberArray)\n",
                "    except Exception as e:\n",
                "        Log.logging.error(e)\n",
                "\n",
                "ListToArray()\n",
                "def reverseArray():\n",
                "    \"\"\"\n",
                "    Description:\n",
                "        this function reverse the array\n",
                "    \"\"\"\n",
                "    try:\n",
                "        numberArray = np.arange(12, 38)\n",
                "        numberArray = numberArray[::-1]\n",
                "        Log.logging.info(numberArray)\n",
                "    except Exception as e:\n",
                "        Log.logging.error(e)\n",
                "\n",
                "reverseArray()"
            ],
            "outputs": [],
            "metadata": {}
        }
    ],
    "metadata": {
        "orig_nbformat": 4,
        "language_info": {
            "name": "python"
        }
    },
    "nbformat": 4,
    "nbformat_minor": 2
}