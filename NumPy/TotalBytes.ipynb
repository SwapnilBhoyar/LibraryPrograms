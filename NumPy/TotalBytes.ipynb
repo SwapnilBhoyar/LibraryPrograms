{
    "cells": [
        {
            "cell_type": "code",
            "execution_count": null,
            "source": [
                "import numpy as np\n",
                "import Log\n",
                "\n",
                "def totalBytes():\n",
                "    \"\"\"\n",
                "    Dscription:\n",
                "        this function calculate total byte of array\n",
                "    \"\"\"\n",
                "    try:\n",
                "        numberArray = np.array([11, 23, 34, 45])\n",
                "        Log.logging.info(\"size:\")\n",
                "        Log.logging.info(numberArray.size)\n",
                "\n",
                "        Log.logging.info(\"length of one element:\")\n",
                "        Log.logging.info(numberArray.itemsize)\n",
                "\n",
                "        Log.logging.info(\"total bytes:\")\n",
                "        Log.logging.info(numberArray.nbytes)\n",
                "    except Exception as e:\n",
                "        Log.logging.error(e)\n",
                "\n",
                "totalBytes()"
            ],
            "outputs": [],
            "metadata": {}
        }
    ],
    "metadata": {
        "orig_nbformat": 4,
        "language_info": {
            "name": "python"
        }
    },
    "nbformat": 4,
    "nbformat_minor": 2
}