{
    "cells": [
        {
            "cell_type": "code",
            "execution_count": null,
            "source": [
                "\"\"\"\n",
                "@Author: Swapnil Bhoyar\n",
                "@Date: 2021-07-14 \n",
                "@Last Modified by: Swapnil Bhoyar\n",
                "@Last Modified time: 2021-08-14\n",
                "@Title : Write a Python program to plot two or more lines with legends, different widths and colors.\n",
                "\"\"\"\n",
                "\n",
                "import Log\n",
                "import matplotlib.pyplot as plt\n",
                "\n",
                "def colorAndWidth():\n",
                "    try:\n",
                "\n",
                "        x = [10,20,30,40,50]\n",
                "        y = [30,30,30,30,30]\n",
                "        \n",
                "        plt.plot(x, y, color='green', linewidth = 3, label = \"line 1\")\n",
                "        plt.plot(y, x, color='orange', linewidth = 5, label = \"line 2\")\n",
                "        plt.legend()\n",
                "        plt.show()\n",
                "    except Exception as e:\n",
                "        Log.logging.error(e)\n",
                "\n",
                "colorAndWidth()\n"
            ],
            "outputs": [],
            "metadata": {}
        }
    ],
    "metadata": {
        "orig_nbformat": 4,
        "language_info": {
            "name": "python"
        }
    },
    "nbformat": 4,
    "nbformat_minor": 2
}