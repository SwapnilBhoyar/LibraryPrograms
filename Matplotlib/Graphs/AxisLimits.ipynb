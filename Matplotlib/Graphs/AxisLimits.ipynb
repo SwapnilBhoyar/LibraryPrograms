{
    "cells": [
        {
            "cell_type": "code",
            "execution_count": 1,
            "source": [
                "\"\"\"\n",
                "@Author: Swapnil Bhoyar\n",
                "@Date: 2021-07-14 \n",
                "@Last Modified by: Swapnil Bhoyar\n",
                "@Last Modified time: 2021-08-14\n",
                "@Title : Write a Python program to display the current axis limits values and set new axis values\n",
                "values.\n",
                "\"\"\"\n",
                "\n",
                "import Log\n",
                "import matplotlib.pyplot as plt\n",
                "\n",
                "def axisLimits():\n",
                "    try:\n",
                "        x = [10,20,30,40,50]\n",
                "        y = [30,30,30,30,30]\n",
                "        \n",
                "        plt.plot(x, y, label = \"line 1\")\n",
                "        plt.plot(y, x, label = \"line 2\")\n",
                "        plt.legend()\n",
                "        print(plt.axis())\n",
                "        plt.show()\n",
                "\n",
                "        #new limits\n",
                "        plt.axis([0, 100, 0, 200])\n",
                "        plt.show()\n",
                "    except Exception as e:\n",
                "        Log.logging.error(e)\n",
                "\n",
                "axisLimits  ()"
            ],
            "outputs": [
                {
                    "output_type": "stream",
                    "name": "stdout",
                    "text": [
                        "(8.0, 52.0, 8.0, 52.0)\n"
                    ]
                },
                {
                    "output_type": "display_data",
                    "data": {
                        "text/plain": [
                            "<Figure size 432x288 with 1 Axes>"
                        ],
                        "image/png": "[encoded data removed]"
                    },
                    "metadata": {
                        "needs_background": "light"
                    }
                }
            ],
            "metadata": {}
        }
    ],
    "metadata": {
        "orig_nbformat": 4,
        "language_info": {
            "name": "python"
        }
    },
    "nbformat": 4,
    "nbformat_minor": 2
}