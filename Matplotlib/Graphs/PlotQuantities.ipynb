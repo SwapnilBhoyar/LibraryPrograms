{
    "cells": [
        {
            "cell_type": "code",
            "execution_count": 1,
            "source": [
                "\"\"\"\n",
                "@Author: Swapnil Bhoyar\n",
                "@Date: 2021-07-14 \n",
                "@Last Modified by: Swapnil Bhoyar\n",
                "@Last Modified time: 2021-08-14\n",
                "@Title : Write a Python program to plot quantities which have an x and y position.\n",
                "\"\"\"\n",
                "\n",
                "import Log\n",
                "import matplotlib.pyplot as plt\n",
                "\n",
                "def plotQuantities():\n",
                "    try:\n",
                "        x = [1, 2, 3, 4, 5, 6, 7, 8]\n",
                "        y = [2, 3, 1, 3, 1, 4, 2, 3]\n",
                "  \n",
                "        plt.scatter(x, y)\n",
                "    except Exception as e:\n",
                "        Log.logging.error(e)\n",
                "\n",
                "plotQuantities()"
            ],
            "outputs": [
                {
                    "output_type": "display_data",
                    "data": {
                        "text/plain": [
                            "<Figure size 432x288 with 1 Axes>"
                        ],
                        "image/png": "[encoded data removed]"
                    },
                    "metadata": {
                        "needs_background": "light"
                    }
                }
            ],
            "metadata": {}
        }
    ],
    "metadata": {
        "orig_nbformat": 4,
        "language_info": {
            "name": "python"
        }
    },
    "nbformat": 4,
    "nbformat_minor": 2
}