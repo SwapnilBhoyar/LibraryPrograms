{
    "cells": [
        {
            "cell_type": "markdown",
            "source": [
                "\"\"\"\n",
                "@Author: Swapnil Bhoyar\n",
                "@Date: 2021-07-15 \n",
                "@Last Modified by: Swapnil Bhoyar\n",
                "@Last Modified time: 2021-08-15\n",
                "@Title : seaborn box plot programs.\n",
                "\"\"\"\n",
                "\n",
                "import seaborn as sns\n",
                "import matplotlib.pyplot as plt\n",
                "\n",
                "gapminderData = sns.load_dataset('gapminderData')\n",
                " \n",
                "sns.boxenplot(x='continent', y='lifeExp', data=gapminderData)"
            ],
            "metadata": {}
        }
    ],
    "metadata": {
        "orig_nbformat": 4,
        "language_info": {
            "name": "python"
        }
    },
    "nbformat": 4,
    "nbformat_minor": 2
}