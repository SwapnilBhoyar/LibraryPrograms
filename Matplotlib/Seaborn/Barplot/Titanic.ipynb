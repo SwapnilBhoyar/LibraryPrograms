{
    "cells": [
        {
            "cell_type": "code",
            "execution_count": 1,
            "source": [
                "\"\"\"\n",
                "@Author: Swapnil Bhoyar\n",
                "@Date: 2021-07-15 \n",
                "@Last Modified by: Swapnil Bhoyar\n",
                "@Last Modified time: 2021-08-15\n",
                "@Title : seaborn barplot programs.\n",
                "\"\"\"\n",
                "\n",
                "import matplotlib.pyplot as plt\n",
                "import seaborn as sns"
            ],
            "outputs": [],
            "metadata": {}
        },
        {
            "cell_type": "markdown",
            "source": [
                "draw bar plot of sex against survived for a dataset"
            ],
            "metadata": {}
        },
        {
            "cell_type": "code",
            "execution_count": 6,
            "source": [
                "titanic = sns.load_dataset(\"titanic\")\n",
                "sns.barplot(x = \"sex\", y = \"survived\", data = titanic)\n",
                "plt.show()"
            ],
            "outputs": [
                {
                    "output_type": "display_data",
                    "data": {
                        "text/plain": [
                            "<Figure size 432x288 with 1 Axes>"
                        ],
                        "image/png": "[encoded data removed]"
                    },
                    "metadata": {
                        "needs_background": "light"
                    }
                }
            ],
            "metadata": {}
        },
        {
            "cell_type": "markdown",
            "source": [
                "barplot to show count for a deck for a dataset"
            ],
            "metadata": {}
        },
        {
            "cell_type": "code",
            "execution_count": 7,
            "source": [
                "sns.catplot(x=\"deck\", kind=\"count\", data=titanic)"
            ],
            "outputs": [
                {
                    "output_type": "execute_result",
                    "data": {
                        "text/plain": [
                            "<seaborn.axisgrid.FacetGrid at 0x7f4ef9214f10>"
                        ]
                    },
                    "metadata": {},
                    "execution_count": 7
                },
                {
                    "output_type": "display_data",
                    "data": {
                        "text/plain": [
                            "<Figure size 360x360 with 1 Axes>"
                        ],
                        "image/png": "[encoded data removed]"
                    },
                    "metadata": {
                        "needs_background": "light"
                    }
                }
            ],
            "metadata": {}
        }
    ],
    "metadata": {
        "orig_nbformat": 4,
        "language_info": {
            "name": "python"
        }
    },
    "nbformat": 4,
    "nbformat_minor": 2
}