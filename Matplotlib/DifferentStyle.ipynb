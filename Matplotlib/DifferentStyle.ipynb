{
    "cells": [
        {
            "cell_type": "code",
            "execution_count": null,
            "source": [
                "\"\"\"\n",
                "@Author: Swapnil Bhoyar\n",
                "@Date: 2021-07-14 \n",
                "@Last Modified by: Swapnil Bhoyar\n",
                "@Last Modified time: 2021-08-14\n",
                "@Title : Write a Python program to plot several lines with different format styles in one command\n",
                "using arrays.\n",
                "\"\"\"\n",
                "\n",
                "import Log\n",
                "import matplotlib.pyplot as plt\n",
                "import numpy as np\n",
                "\n",
                "def differentStyle():\n",
                "    try:\n",
                "        values = np.arange(0., 5., 0.2)\n",
                "        # green dashes, blue squares and red triangles\n",
                "        plt.plot(values, values, 'g--', values, values**2, 'bs', values, values**3, 'r^')\n",
                "        plt.show()\n",
                "       \n",
                "    except Exception as e:\n",
                "        Log.logging.error(e)\n",
                "\n",
                "differentStyle()"
            ],
            "outputs": [],
            "metadata": {}
        }
    ],
    "metadata": {
        "orig_nbformat": 4,
        "language_info": {
            "name": "python"
        }
    },
    "nbformat": 4,
    "nbformat_minor": 2
}