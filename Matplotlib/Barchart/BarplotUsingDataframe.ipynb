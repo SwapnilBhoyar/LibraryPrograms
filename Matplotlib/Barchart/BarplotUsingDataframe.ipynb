{
    "cells": [
        {
            "cell_type": "code",
            "execution_count": 7,
            "source": [
                "\"\"\"\n",
                "@Author: Swapnil Bhoyar\n",
                "@Date: 2021-07-14 \n",
                "@Last Modified by: Swapnil Bhoyar\n",
                "@Last Modified time: 2021-08-14\n",
                "@Title : Write a Python program to create bar plot from a DataFrame.\n",
                "\"\"\"\n",
                "\n",
                "from pandas import DataFrame\n",
                "import matplotlib.pyplot as plt\n",
                "import numpy as np\n",
                "\n",
                "a=np.array([[4,8,5,7,6],[2,3,4,2,6],[4,7,4,7,8],[2,6,4,8,6],[2,4,3,3,2]])\n",
                "df=DataFrame(a, columns=['a','b','c','d','e'], index=[2,4,6,8,10])\n",
                "\n",
                "df.plot(kind='bar')\n",
                "\n",
                "plt.show()"
            ],
            "outputs": [
                {
                    "output_type": "display_data",
                    "data": {
                        "text/plain": [
                            "<Figure size 432x288 with 1 Axes>"
                        ],
                        "image/png": "[encoded data removed]"
                    },
                    "metadata": {
                        "needs_background": "light"
                    }
                }
            ],
            "metadata": {}
        }
    ],
    "metadata": {
        "orig_nbformat": 4,
        "language_info": {
            "name": "python"
        }
    },
    "nbformat": 4,
    "nbformat_minor": 2
}