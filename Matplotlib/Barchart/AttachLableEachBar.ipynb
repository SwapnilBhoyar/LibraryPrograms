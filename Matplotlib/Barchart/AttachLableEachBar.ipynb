{
    "cells": [
        {
            "cell_type": "code",
            "execution_count": 1,
            "source": [
                "\"\"\"\n",
                "@Author: Swapnil Bhoyar\n",
                "@Date: 2021-07-14 \n",
                "@Last Modified by: Swapnil Bhoyar\n",
                "@Last Modified time: 2021-08-14\n",
                "@Title : Write a Python program to create bar plots with errorbars on the same figure. Attach a text\n",
                "label above each bar displaying men means (integer value).\n",
                "\"\"\"\n",
                "\n",
                "import numpy as np\n",
                "import matplotlib.pyplot as plt\n",
                "import matplotlib.patches as mpatches\n",
                "\n",
                "N = 5\n",
                "men_means = (54.74, 42.35, 67.37, 58.24, 30.25)\n",
                "men_std= (4, 3, 4, 1, 5)\n",
                "\n",
                "ind = np.arange(N)  # the x locations for the groups\n",
                "width = 0.35       # the width of the bars\n",
                "\n",
                "fig, ax = plt.subplots()\n",
                "rects1 = ax.bar(ind, men_means, width, color='r', yerr=men_std)\n",
                "\n",
                "# add some text for labels, title and axes ticks\n",
                "plt.ylabel('Scores')\n",
                "plt.xlabel('Velocity')\n",
                "plt.title('Scores by Velocity')\n",
                "\n",
                "def autolabel(rects):\n",
                "    \"\"\"\n",
                "    Attach a text label above each bar displaying its height\n",
                "    \"\"\"\n",
                "    for rect in rects:\n",
                "       height = rect.get_height()\n",
                "       ax.text(rect.get_x() + rect.get_width()/2., 1.05*height,\n",
                "                '%d' % int(height),\n",
                "       ha='center', va='bottom')\n",
                "autolabel(rects1)\n",
                "plt.show()"
            ],
            "outputs": [
                {
                    "output_type": "display_data",
                    "data": {
                        "text/plain": [
                            "<Figure size 432x288 with 1 Axes>"
                        ],
                        "image/png": "[encoded data removed]"
                    },
                    "metadata": {
                        "needs_background": "light"
                    }
                }
            ],
            "metadata": {}
        }
    ],
    "metadata": {
        "orig_nbformat": 4,
        "language_info": {
            "name": "python"
        }
    },
    "nbformat": 4,
    "nbformat_minor": 2
}