{
    "cells": [
        {
            "cell_type": "code",
            "execution_count": 7,
            "source": [
                "\"\"\"\n",
                "@Author: Swapnil Bhoyar\n",
                "@Date: 2021-07-16\n",
                "@Last Modified by: Swapnil Bhoyar\n",
                "@Last Modified time: 2021-08-16\n",
                "@Title : plotly scatterplot programs.\n",
                "\"\"\"\n",
                "\n",
                "import pandas as pd\n",
                "import plotly.express as px\n",
                "\n",
                "df = pd.read_csv(\"2014_usa_states.csv\")\n",
                "figure=px.scatter(df, x='Rank',y='Population',color='State')\n",
                "figure.show()"
            ],
            "outputs": [
                {
                    "output_type": "display_data",
                    "data": {
                        "application/vnd.plotly.v1+json": {
                            "config": {
                                "plotlyServerURL": "https://plot.ly"
                            },
                            "data": [
                                {
                                    "hovertemplate": "State=Alabama<br>Rank=%{x}<br>Population=%{y}<extra></extra>",
                                    "legendgroup": "Alabama",
                                    "marker": {
                                        "color": "#636efa",
                                        "symbol": "circle"
                                    },
                                    "mode": "markers",
                                    "name": "Alabama",
                                    "orientation": "v",
                                    "showlegend": true,
                                    "type": "scatter",
                                    "x": [
                                        1
                                    ],
                                    "xaxis": "x",
                                    "y": [
                                        4849377
                                    ],
                                    "yaxis": "y"
                                },
                                {
                                    "hovertemplate": "State=Alaska<br>Rank=%{x}<br>Population=%{y}<extra></extra>",
                                    "legendgroup": "Alaska",
                                    "marker": {
                                        "color": "#EF553B",
                                        "symbol": "circle"
                                    },
                                    "mode": "markers",
                                    "name": "Alaska",
                                    "orientation": "v",
                                    "showlegend": true,
                                    "type": "scatter",
                                    "x": [
                                        2
                                    ],
                                    "xaxis": "x",
                                    "y": [
                                        736732
                                    ],
                                    "yaxis": "y"
                                },
                                {
                                    "hovertemplate": "State=Arizona<br>Rank=%{x}<br>Population=%{y}<extra></extra>",
                                    "legendgroup": "Arizona",
                                    "marker": {
                                        "color": "#00cc96",
                                        "symbol": "circle"
                                    },
                                    "mode": "markers",
                                    "name": "Arizona",
                                    "orientation": "v",
                                    "showlegend": true,
                                    "type": "scatter",
                                    "x": [
                                        3
                                    ],
                                    "xaxis": "x",
                                    "y": [
                                        6731484
                                    ],
                                    "yaxis": "y"
                                },
                                {
                                    "hovertemplate": "State=Arkansas<br>Rank=%{x}<br>Population=%{y}<extra></extra>",
                                    "legendgroup": "Arkansas",
                                    "marker": {
                                        "color": "#ab63fa",
                                        "symbol": "circle"
                                    },
                                    "mode": "markers",
                                    "name": "Arkansas",
                                    "orientation": "v",
                                    "showlegend": true,
                                    "type": "scatter",
                                    "x": [
                                        4
                                    ],
                                    "xaxis": "x",
                                    "y": [
                                        2966369
                                    ],
                                    "yaxis": "y"
                                },
                                {
                                    "hovertemplate": "State=California<br>Rank=%{x}<br>Population=%{y}<extra></extra>",
                                    "legendgroup": "California",
                                    "marker": {
                                        "color": "#FFA15A",
                                        "symbol": "circle"
                                    },
                                    "mode": "markers",
                                    "name": "California",
                                    "orientation": "v",
                                    "showlegend": true,
                                    "type": "scatter",
                                    "x": [
                                        5
                                    ],
                                    "xaxis": "x",
                                    "y": [
                                        38802500
                                    ],
                                    "yaxis": "y"
                                },
                                {
                                    "hovertemplate": "State=Colorado<br>Rank=%{x}<br>Population=%{y}<extra></extra>",
                                    "legendgroup": "Colorado",
                                    "marker": {
                                        "color": "#19d3f3",
                                        "symbol": "circle"
                                    },
                                    "mode": "markers",
                                    "name": "Colorado",
                                    "orientation": "v",
                                    "showlegend": true,
                                    "type": "scatter",
                                    "x": [
                                        6
                                    ],
                                    "xaxis": "x",
                                    "y": [
                                        5355866
                                    ],
                                    "yaxis": "y"
                                },
                                {
                                    "hovertemplate": "State=Connecticut<br>Rank=%{x}<br>Population=%{y}<extra></extra>",
                                    "legendgroup": "Connecticut",
                                    "marker": {
                                        "color": "#FF6692",
                                        "symbol": "circle"
                                    },
                                    "mode": "markers",
                                    "name": "Connecticut",
                                    "orientation": "v",
                                    "showlegend": true,
                                    "type": "scatter",
                                    "x": [
                                        7
                                    ],
                                    "xaxis": "x",
                                    "y": [
                                        3596677
                                    ],
                                    "yaxis": "y"
                                },
                                {
                                    "hovertemplate": "State=Delaware<br>Rank=%{x}<br>Population=%{y}<extra></extra>",
                                    "legendgroup": "Delaware",
                                    "marker": {
                                        "color": "#B6E880",
                                        "symbol": "circle"
                                    },
                                    "mode": "markers",
                                    "name": "Delaware",
                                    "orientation": "v",
                                    "showlegend": true,
                                    "type": "scatter",
                                    "x": [
                                        8
                                    ],
                                    "xaxis": "x",
                                    "y": [
                                        935614
                                    ],
                                    "yaxis": "y"
                                },
                                {
                                    "hovertemplate": "State=District of Columbia<br>Rank=%{x}<br>Population=%{y}<extra></extra>",
                                    "legendgroup": "District of Columbia",
                                    "marker": {
                                        "color": "#FF97FF",
                                        "symbol": "circle"
                                    },
                                    "mode": "markers",
                                    "name": "District of Columbia",
                                    "orientation": "v",
                                    "showlegend": true,
                                    "type": "scatter",
                                    "x": [
                                        9
                                    ],
                                    "xaxis": "x",
                                    "y": [
                                        658893
                                    ],
                                    "yaxis": "y"
                                },
                                {
                                    "hovertemplate": "State=Florida<br>Rank=%{x}<br>Population=%{y}<extra></extra>",
                                    "legendgroup": "Florida",
                                    "marker": {
                                        "color": "#FECB52",
                                        "symbol": "circle"
                                    },
                                    "mode": "markers",
                                    "name": "Florida",
                                    "orientation": "v",
                                    "showlegend": true,
                                    "type": "scatter",
                                    "x": [
                                        10
                                    ],
                                    "xaxis": "x",
                                    "y": [
                                        19893297
                                    ],
                                    "yaxis": "y"
                                },
                                {
                                    "hovertemplate": "State=Georgia<br>Rank=%{x}<br>Population=%{y}<extra></extra>",
                                    "legendgroup": "Georgia",
                                    "marker": {
                                        "color": "#636efa",
                                        "symbol": "circle"
                                    },
                                    "mode": "markers",
                                    "name": "Georgia",
                                    "orientation": "v",
                                    "showlegend": true,
                                    "type": "scatter",
                                    "x": [
                                        11
                                    ],
                                    "xaxis": "x",
                                    "y": [
                                        10097343
                                    ],
                                    "yaxis": "y"
                                },
                                {
                                    "hovertemplate": "State=Hawaii<br>Rank=%{x}<br>Population=%{y}<extra></extra>",
                                    "legendgroup": "Hawaii",
                                    "marker": {
                                        "color": "#EF553B",
                                        "symbol": "circle"
                                    },
                                    "mode": "markers",
                                    "name": "Hawaii",
                                    "orientation": "v",
                                    "showlegend": true,
                                    "type": "scatter",
                                    "x": [
                                        12
                                    ],
                                    "xaxis": "x",
                                    "y": [
                                        1419561
                                    ],
                                    "yaxis": "y"
                                },
                                {
                                    "hovertemplate": "State=Idaho<br>Rank=%{x}<br>Population=%{y}<extra></extra>",
                                    "legendgroup": "Idaho",
                                    "marker": {
                                        "color": "#00cc96",
                                        "symbol": "circle"
                                    },
                                    "mode": "markers",
                                    "name": "Idaho",
                                    "orientation": "v",
                                    "showlegend": true,
                                    "type": "scatter",
                                    "x": [
                                        13
                                    ],
                                    "xaxis": "x",
                                    "y": [
                                        1634464
                                    ],
                                    "yaxis": "y"
                                },
                                {
                                    "hovertemplate": "State=Illinois<br>Rank=%{x}<br>Population=%{y}<extra></extra>",
                                    "legendgroup": "Illinois",
                                    "marker": {
                                        "color": "#ab63fa",
                                        "symbol": "circle"
                                    },
                                    "mode": "markers",
                                    "name": "Illinois",
                                    "orientation": "v",
                                    "showlegend": true,
                                    "type": "scatter",
                                    "x": [
                                        14
                                    ],
                                    "xaxis": "x",
                                    "y": [
                                        12880580
                                    ],
                                    "yaxis": "y"
                                },
                                {
                                    "hovertemplate": "State=Indiana<br>Rank=%{x}<br>Population=%{y}<extra></extra>",
                                    "legendgroup": "Indiana",
                                    "marker": {
                                        "color": "#FFA15A",
                                        "symbol": "circle"
                                    },
                                    "mode": "markers",
                                    "name": "Indiana",
                                    "orientation": "v",
                                    "showlegend": true,
                                    "type": "scatter",
                                    "x": [
                                        15
                                    ],
                                    "xaxis": "x",
                                    "y": [
                                        6596855
                                    ],
                                    "yaxis": "y"
                                },
                                {
                                    "hovertemplate": "State=Iowa<br>Rank=%{x}<br>Population=%{y}<extra></extra>",
                                    "legendgroup": "Iowa",
                                    "marker": {
                                        "color": "#19d3f3",
                                        "symbol": "circle"
                                    },
                                    "mode": "markers",
                                    "name": "Iowa",
                                    "orientation": "v",
                                    "showlegend": true,
                                    "type": "scatter",
                                    "x": [
                                        16
                                    ],
                                    "xaxis": "x",
                                    "y": [
                                        3107126
                                    ],
                                    "yaxis": "y"
                                },
                                {
                                    "hovertemplate": "State=Kansas<br>Rank=%{x}<br>Population=%{y}<extra></extra>",
                                    "legendgroup": "Kansas",
                                    "marker": {
                                        "color": "#FF6692",
                                        "symbol": "circle"
                                    },
                                    "mode": "markers",
                                    "name": "Kansas",
                                    "orientation": "v",
                                    "showlegend": true,
                                    "type": "scatter",
                                    "x": [
                                        17
                                    ],
                                    "xaxis": "x",
                                    "y": [
                                        2904021
                                    ],
                                    "yaxis": "y"
                                },
                                {
                                    "hovertemplate": "State=Kentucky<br>Rank=%{x}<br>Population=%{y}<extra></extra>",
                                    "legendgroup": "Kentucky",
                                    "marker": {
                                        "color": "#B6E880",
                                        "symbol": "circle"
                                    },
                                    "mode": "markers",
                                    "name": "Kentucky",
                                    "orientation": "v",
                                    "showlegend": true,
                                    "type": "scatter",
                                    "x": [
                                        18
                                    ],
                                    "xaxis": "x",
                                    "y": [
                                        4413457
                                    ],
                                    "yaxis": "y"
                                },
                                {
                                    "hovertemplate": "State=Louisiana<br>Rank=%{x}<br>Population=%{y}<extra></extra>",
                                    "legendgroup": "Louisiana",
                                    "marker": {
                                        "color": "#FF97FF",
                                        "symbol": "circle"
                                    },
                                    "mode": "markers",
                                    "name": "Louisiana",
                                    "orientation": "v",
                                    "showlegend": true,
                                    "type": "scatter",
                                    "x": [
                                        19
                                    ],
                                    "xaxis": "x",
                                    "y": [
                                        4649676
                                    ],
                                    "yaxis": "y"
                                },
                                {
                                    "hovertemplate": "State=Maine<br>Rank=%{x}<br>Population=%{y}<extra></extra>",
                                    "legendgroup": "Maine",
                                    "marker": {
                                        "color": "#FECB52",
                                        "symbol": "circle"
                                    },
                                    "mode": "markers",
                                    "name": "Maine",
                                    "orientation": "v",
                                    "showlegend": true,
                                    "type": "scatter",
                                    "x": [
                                        20
                                    ],
                                    "xaxis": "x",
                                    "y": [
                                        1330089
                                    ],
                                    "yaxis": "y"
                                },
                                {
                                    "hovertemplate": "State=Maryland<br>Rank=%{x}<br>Population=%{y}<extra></extra>",
                                    "legendgroup": "Maryland",
                                    "marker": {
                                        "color": "#636efa",
                                        "symbol": "circle"
                                    },
                                    "mode": "markers",
                                    "name": "Maryland",
                                    "orientation": "v",
                                    "showlegend": true,
                                    "type": "scatter",
                                    "x": [
                                        21
                                    ],
                                    "xaxis": "x",
                                    "y": [
                                        5976407
                                    ],
                                    "yaxis": "y"
                                },
                                {
                                    "hovertemplate": "State=Massachusetts<br>Rank=%{x}<br>Population=%{y}<extra></extra>",
                                    "legendgroup": "Massachusetts",
                                    "marker": {
                                        "color": "#EF553B",
                                        "symbol": "circle"
                                    },
                                    "mode": "markers",
                                    "name": "Massachusetts",
                                    "orientation": "v",
                                    "showlegend": true,
                                    "type": "scatter",
                                    "x": [
                                        22
                                    ],
                                    "xaxis": "x",
                                    "y": [
                                        6745408
                                    ],
                                    "yaxis": "y"
                                },
                                {
                                    "hovertemplate": "State=Michigan<br>Rank=%{x}<br>Population=%{y}<extra></extra>",
                                    "legendgroup": "Michigan",
                                    "marker": {
                                        "color": "#00cc96",
                                        "symbol": "circle"
                                    },
                                    "mode": "markers",
                                    "name": "Michigan",
                                    "orientation": "v",
                                    "showlegend": true,
                                    "type": "scatter",
                                    "x": [
                                        23
                                    ],
                                    "xaxis": "x",
                                    "y": [
                                        9909877
                                    ],
                                    "yaxis": "y"
                                },
                                {
                                    "hovertemplate": "State=Minnesota<br>Rank=%{x}<br>Population=%{y}<extra></extra>",
                                    "legendgroup": "Minnesota",
                                    "marker": {
                                        "color": "#ab63fa",
                                        "symbol": "circle"
                                    },
                                    "mode": "markers",
                                    "name": "Minnesota",
                                    "orientation": "v",
                                    "showlegend": true,
                                    "type": "scatter",
                                    "x": [
                                        24
                                    ],
                                    "xaxis": "x",
                                    "y": [
                                        5457173
                                    ],
                                    "yaxis": "y"
                                },
                                {
                                    "hovertemplate": "State=Mississippi<br>Rank=%{x}<br>Population=%{y}<extra></extra>",
                                    "legendgroup": "Mississippi",
                                    "marker": {
                                        "color": "#FFA15A",
                                        "symbol": "circle"
                                    },
                                    "mode": "markers",
                                    "name": "Mississippi",
                                    "orientation": "v",
                                    "showlegend": true,
                                    "type": "scatter",
                                    "x": [
                                        25
                                    ],
                                    "xaxis": "x",
                                    "y": [
                                        2994079
                                    ],
                                    "yaxis": "y"
                                },
                                {
                                    "hovertemplate": "State=Missouri<br>Rank=%{x}<br>Population=%{y}<extra></extra>",
                                    "legendgroup": "Missouri",
                                    "marker": {
                                        "color": "#19d3f3",
                                        "symbol": "circle"
                                    },
                                    "mode": "markers",
                                    "name": "Missouri",
                                    "orientation": "v",
                                    "showlegend": true,
                                    "type": "scatter",
                                    "x": [
                                        26
                                    ],
                                    "xaxis": "x",
                                    "y": [
                                        6063589
                                    ],
                                    "yaxis": "y"
                                },
                                {
                                    "hovertemplate": "State=Montana<br>Rank=%{x}<br>Population=%{y}<extra></extra>",
                                    "legendgroup": "Montana",
                                    "marker": {
                                        "color": "#FF6692",
                                        "symbol": "circle"
                                    },
                                    "mode": "markers",
                                    "name": "Montana",
                                    "orientation": "v",
                                    "showlegend": true,
                                    "type": "scatter",
                                    "x": [
                                        27
                                    ],
                                    "xaxis": "x",
                                    "y": [
                                        1023579
                                    ],
                                    "yaxis": "y"
                                },
                                {
                                    "hovertemplate": "State=Nebraska<br>Rank=%{x}<br>Population=%{y}<extra></extra>",
                                    "legendgroup": "Nebraska",
                                    "marker": {
                                        "color": "#B6E880",
                                        "symbol": "circle"
                                    },
                                    "mode": "markers",
                                    "name": "Nebraska",
                                    "orientation": "v",
                                    "showlegend": true,
                                    "type": "scatter",
                                    "x": [
                                        28
                                    ],
                                    "xaxis": "x",
                                    "y": [
                                        1881503
                                    ],
                                    "yaxis": "y"
                                },
                                {
                                    "hovertemplate": "State=Nevada<br>Rank=%{x}<br>Population=%{y}<extra></extra>",
                                    "legendgroup": "Nevada",
                                    "marker": {
                                        "color": "#FF97FF",
                                        "symbol": "circle"
                                    },
                                    "mode": "markers",
                                    "name": "Nevada",
                                    "orientation": "v",
                                    "showlegend": true,
                                    "type": "scatter",
                                    "x": [
                                        29
                                    ],
                                    "xaxis": "x",
                                    "y": [
                                        2839098
                                    ],
                                    "yaxis": "y"
                                },
                                {
                                    "hovertemplate": "State=New Hampshire<br>Rank=%{x}<br>Population=%{y}<extra></extra>",
                                    "legendgroup": "New Hampshire",
                                    "marker": {
                                        "color": "#FECB52",
                                        "symbol": "circle"
                                    },
                                    "mode": "markers",
                                    "name": "New Hampshire",
                                    "orientation": "v",
                                    "showlegend": true,
                                    "type": "scatter",
                                    "x": [
                                        30
                                    ],
                                    "xaxis": "x",
                                    "y": [
                                        1326813
                                    ],
                                    "yaxis": "y"
                                },
                                {
                                    "hovertemplate": "State=New Jersey<br>Rank=%{x}<br>Population=%{y}<extra></extra>",
                                    "legendgroup": "New Jersey",
                                    "marker": {
                                        "color": "#636efa",
                                        "symbol": "circle"
                                    },
                                    "mode": "markers",
                                    "name": "New Jersey",
                                    "orientation": "v",
                                    "showlegend": true,
                                    "type": "scatter",
                                    "x": [
                                        31
                                    ],
                                    "xaxis": "x",
                                    "y": [
                                        8938175
                                    ],
                                    "yaxis": "y"
                                },
                                {
                                    "hovertemplate": "State=New Mexico<br>Rank=%{x}<br>Population=%{y}<extra></extra>",
                                    "legendgroup": "New Mexico",
                                    "marker": {
                                        "color": "#EF553B",
                                        "symbol": "circle"
                                    },
                                    "mode": "markers",
                                    "name": "New Mexico",
                                    "orientation": "v",
                                    "showlegend": true,
                                    "type": "scatter",
                                    "x": [
                                        32
                                    ],
                                    "xaxis": "x",
                                    "y": [
                                        2085572
                                    ],
                                    "yaxis": "y"
                                },
                                {
                                    "hovertemplate": "State=New York<br>Rank=%{x}<br>Population=%{y}<extra></extra>",
                                    "legendgroup": "New York",
                                    "marker": {
                                        "color": "#00cc96",
                                        "symbol": "circle"
                                    },
                                    "mode": "markers",
                                    "name": "New York",
                                    "orientation": "v",
                                    "showlegend": true,
                                    "type": "scatter",
                                    "x": [
                                        33
                                    ],
                                    "xaxis": "x",
                                    "y": [
                                        19746227
                                    ],
                                    "yaxis": "y"
                                },
                                {
                                    "hovertemplate": "State=North Carolina<br>Rank=%{x}<br>Population=%{y}<extra></extra>",
                                    "legendgroup": "North Carolina",
                                    "marker": {
                                        "color": "#ab63fa",
                                        "symbol": "circle"
                                    },
                                    "mode": "markers",
                                    "name": "North Carolina",
                                    "orientation": "v",
                                    "showlegend": true,
                                    "type": "scatter",
                                    "x": [
                                        34
                                    ],
                                    "xaxis": "x",
                                    "y": [
                                        9943964
                                    ],
                                    "yaxis": "y"
                                },
                                {
                                    "hovertemplate": "State=North Dakota<br>Rank=%{x}<br>Population=%{y}<extra></extra>",
                                    "legendgroup": "North Dakota",
                                    "marker": {
                                        "color": "#FFA15A",
                                        "symbol": "circle"
                                    },
                                    "mode": "markers",
                                    "name": "North Dakota",
                                    "orientation": "v",
                                    "showlegend": true,
                                    "type": "scatter",
                                    "x": [
                                        35
                                    ],
                                    "xaxis": "x",
                                    "y": [
                                        739482
                                    ],
                                    "yaxis": "y"
                                },
                                {
                                    "hovertemplate": "State=Ohio<br>Rank=%{x}<br>Population=%{y}<extra></extra>",
                                    "legendgroup": "Ohio",
                                    "marker": {
                                        "color": "#19d3f3",
                                        "symbol": "circle"
                                    },
                                    "mode": "markers",
                                    "name": "Ohio",
                                    "orientation": "v",
                                    "showlegend": true,
                                    "type": "scatter",
                                    "x": [
                                        36
                                    ],
                                    "xaxis": "x",
                                    "y": [
                                        11594163
                                    ],
                                    "yaxis": "y"
                                },
                                {
                                    "hovertemplate": "State=Oklahoma<br>Rank=%{x}<br>Population=%{y}<extra></extra>",
                                    "legendgroup": "Oklahoma",
                                    "marker": {
                                        "color": "#FF6692",
                                        "symbol": "circle"
                                    },
                                    "mode": "markers",
                                    "name": "Oklahoma",
                                    "orientation": "v",
                                    "showlegend": true,
                                    "type": "scatter",
                                    "x": [
                                        37
                                    ],
                                    "xaxis": "x",
                                    "y": [
                                        3878051
                                    ],
                                    "yaxis": "y"
                                },
                                {
                                    "hovertemplate": "State=Oregon<br>Rank=%{x}<br>Population=%{y}<extra></extra>",
                                    "legendgroup": "Oregon",
                                    "marker": {
                                        "color": "#B6E880",
                                        "symbol": "circle"
                                    },
                                    "mode": "markers",
                                    "name": "Oregon",
                                    "orientation": "v",
                                    "showlegend": true,
                                    "type": "scatter",
                                    "x": [
                                        38
                                    ],
                                    "xaxis": "x",
                                    "y": [
                                        3970239
                                    ],
                                    "yaxis": "y"
                                },
                                {
                                    "hovertemplate": "State=Pennsylvania<br>Rank=%{x}<br>Population=%{y}<extra></extra>",
                                    "legendgroup": "Pennsylvania",
                                    "marker": {
                                        "color": "#FF97FF",
                                        "symbol": "circle"
                                    },
                                    "mode": "markers",
                                    "name": "Pennsylvania",
                                    "orientation": "v",
                                    "showlegend": true,
                                    "type": "scatter",
                                    "x": [
                                        39
                                    ],
                                    "xaxis": "x",
                                    "y": [
                                        12787209
                                    ],
                                    "yaxis": "y"
                                },
                                {
                                    "hovertemplate": "State=Puerto Rico<br>Rank=%{x}<br>Population=%{y}<extra></extra>",
                                    "legendgroup": "Puerto Rico",
                                    "marker": {
                                        "color": "#FECB52",
                                        "symbol": "circle"
                                    },
                                    "mode": "markers",
                                    "name": "Puerto Rico",
                                    "orientation": "v",
                                    "showlegend": true,
                                    "type": "scatter",
                                    "x": [
                                        40
                                    ],
                                    "xaxis": "x",
                                    "y": [
                                        3548397
                                    ],
                                    "yaxis": "y"
                                },
                                {
                                    "hovertemplate": "State=Rhode Island<br>Rank=%{x}<br>Population=%{y}<extra></extra>",
                                    "legendgroup": "Rhode Island",
                                    "marker": {
                                        "color": "#636efa",
                                        "symbol": "circle"
                                    },
                                    "mode": "markers",
                                    "name": "Rhode Island",
                                    "orientation": "v",
                                    "showlegend": true,
                                    "type": "scatter",
                                    "x": [
                                        41
                                    ],
                                    "xaxis": "x",
                                    "y": [
                                        1055173
                                    ],
                                    "yaxis": "y"
                                },
                                {
                                    "hovertemplate": "State=South Carolina<br>Rank=%{x}<br>Population=%{y}<extra></extra>",
                                    "legendgroup": "South Carolina",
                                    "marker": {
                                        "color": "#EF553B",
                                        "symbol": "circle"
                                    },
                                    "mode": "markers",
                                    "name": "South Carolina",
                                    "orientation": "v",
                                    "showlegend": true,
                                    "type": "scatter",
                                    "x": [
                                        42
                                    ],
                                    "xaxis": "x",
                                    "y": [
                                        4832482
                                    ],
                                    "yaxis": "y"
                                },
                                {
                                    "hovertemplate": "State=South Dakota<br>Rank=%{x}<br>Population=%{y}<extra></extra>",
                                    "legendgroup": "South Dakota",
                                    "marker": {
                                        "color": "#00cc96",
                                        "symbol": "circle"
                                    },
                                    "mode": "markers",
                                    "name": "South Dakota",
                                    "orientation": "v",
                                    "showlegend": true,
                                    "type": "scatter",
                                    "x": [
                                        43
                                    ],
                                    "xaxis": "x",
                                    "y": [
                                        853175
                                    ],
                                    "yaxis": "y"
                                },
                                {
                                    "hovertemplate": "State=Tennessee<br>Rank=%{x}<br>Population=%{y}<extra></extra>",
                                    "legendgroup": "Tennessee",
                                    "marker": {
                                        "color": "#ab63fa",
                                        "symbol": "circle"
                                    },
                                    "mode": "markers",
                                    "name": "Tennessee",
                                    "orientation": "v",
                                    "showlegend": true,
                                    "type": "scatter",
                                    "x": [
                                        44
                                    ],
                                    "xaxis": "x",
                                    "y": [
                                        6549352
                                    ],
                                    "yaxis": "y"
                                },
                                {
                                    "hovertemplate": "State=Texas<br>Rank=%{x}<br>Population=%{y}<extra></extra>",
                                    "legendgroup": "Texas",
                                    "marker": {
                                        "color": "#FFA15A",
                                        "symbol": "circle"
                                    },
                                    "mode": "markers",
                                    "name": "Texas",
                                    "orientation": "v",
                                    "showlegend": true,
                                    "type": "scatter",
                                    "x": [
                                        45
                                    ],
                                    "xaxis": "x",
                                    "y": [
                                        26956958
                                    ],
                                    "yaxis": "y"
                                },
                                {
                                    "hovertemplate": "State=Utah<br>Rank=%{x}<br>Population=%{y}<extra></extra>",
                                    "legendgroup": "Utah",
                                    "marker": {
                                        "color": "#19d3f3",
                                        "symbol": "circle"
                                    },
                                    "mode": "markers",
                                    "name": "Utah",
                                    "orientation": "v",
                                    "showlegend": true,
                                    "type": "scatter",
                                    "x": [
                                        46
                                    ],
                                    "xaxis": "x",
                                    "y": [
                                        2942902
                                    ],
                                    "yaxis": "y"
                                },
                                {
                                    "hovertemplate": "State=Vermont<br>Rank=%{x}<br>Population=%{y}<extra></extra>",
                                    "legendgroup": "Vermont",
                                    "marker": {
                                        "color": "#FF6692",
                                        "symbol": "circle"
                                    },
                                    "mode": "markers",
                                    "name": "Vermont",
                                    "orientation": "v",
                                    "showlegend": true,
                                    "type": "scatter",
                                    "x": [
                                        47
                                    ],
                                    "xaxis": "x",
                                    "y": [
                                        626562
                                    ],
                                    "yaxis": "y"
                                },
                                {
                                    "hovertemplate": "State=Virginia<br>Rank=%{x}<br>Population=%{y}<extra></extra>",
                                    "legendgroup": "Virginia",
                                    "marker": {
                                        "color": "#B6E880",
                                        "symbol": "circle"
                                    },
                                    "mode": "markers",
                                    "name": "Virginia",
                                    "orientation": "v",
                                    "showlegend": true,
                                    "type": "scatter",
                                    "x": [
                                        48
                                    ],
                                    "xaxis": "x",
                                    "y": [
                                        8326289
                                    ],
                                    "yaxis": "y"
                                },
                                {
                                    "hovertemplate": "State=Washington<br>Rank=%{x}<br>Population=%{y}<extra></extra>",
                                    "legendgroup": "Washington",
                                    "marker": {
                                        "color": "#FF97FF",
                                        "symbol": "circle"
                                    },
                                    "mode": "markers",
                                    "name": "Washington",
                                    "orientation": "v",
                                    "showlegend": true,
                                    "type": "scatter",
                                    "x": [
                                        49
                                    ],
                                    "xaxis": "x",
                                    "y": [
                                        7061530
                                    ],
                                    "yaxis": "y"
                                },
                                {
                                    "hovertemplate": "State=West Virginia<br>Rank=%{x}<br>Population=%{y}<extra></extra>",
                                    "legendgroup": "West Virginia",
                                    "marker": {
                                        "color": "#FECB52",
                                        "symbol": "circle"
                                    },
                                    "mode": "markers",
                                    "name": "West Virginia",
                                    "orientation": "v",
                                    "showlegend": true,
                                    "type": "scatter",
                                    "x": [
                                        50
                                    ],
                                    "xaxis": "x",
                                    "y": [
                                        1850326
                                    ],
                                    "yaxis": "y"
                                },
                                {
                                    "hovertemplate": "State=Wisconsin<br>Rank=%{x}<br>Population=%{y}<extra></extra>",
                                    "legendgroup": "Wisconsin",
                                    "marker": {
                                        "color": "#636efa",
                                        "symbol": "circle"
                                    },
                                    "mode": "markers",
                                    "name": "Wisconsin",
                                    "orientation": "v",
                                    "showlegend": true,
                                    "type": "scatter",
                                    "x": [
                                        51
                                    ],
                                    "xaxis": "x",
                                    "y": [
                                        5757564
                                    ],
                                    "yaxis": "y"
                                },
                                {
                                    "hovertemplate": "State=Wyoming<br>Rank=%{x}<br>Population=%{y}<extra></extra>",
                                    "legendgroup": "Wyoming",
                                    "marker": {
                                        "color": "#EF553B",
                                        "symbol": "circle"
                                    },
                                    "mode": "markers",
                                    "name": "Wyoming",
                                    "orientation": "v",
                                    "showlegend": true,
                                    "type": "scatter",
                                    "x": [
                                        52
                                    ],
                                    "xaxis": "x",
                                    "y": [
                                        584153
                                    ],
                                    "yaxis": "y"
                                }
                            ],
                            "layout": {
                                "legend": {
                                    "title": {
                                        "text": "State"
                                    },
                                    "tracegroupgap": 0
                                },
                                "margin": {
                                    "t": 60
                                },
                                "template": {
                                    "data": {
                                        "bar": [
                                            {
                                                "error_x": {
                                                    "color": "#2a3f5f"
                                                },
                                                "error_y": {
                                                    "color": "#2a3f5f"
                                                },
                                                "marker": {
                                                    "line": {
                                                        "color": "#E5ECF6",
                                                        "width": 0.5
                                                    },
                                                    "pattern": {
                                                        "fillmode": "overlay",
                                                        "size": 10,
                                                        "solidity": 0.2
                                                    }
                                                },
                                                "type": "bar"
                                            }
                                        ],
                                        "barpolar": [
                                            {
                                                "marker": {
                                                    "line": {
                                                        "color": "#E5ECF6",
                                                        "width": 0.5
                                                    },
                                                    "pattern": {
                                                        "fillmode": "overlay",
                                                        "size": 10,
                                                        "solidity": 0.2
                                                    }
                                                },
                                                "type": "barpolar"
                                            }
                                        ],
                                        "carpet": [
                                            {
                                                "aaxis": {
                                                    "endlinecolor": "#2a3f5f",
                                                    "gridcolor": "white",
                                                    "linecolor": "white",
                                                    "minorgridcolor": "white",
                                                    "startlinecolor": "#2a3f5f"
                                                },
                                                "baxis": {
                                                    "endlinecolor": "#2a3f5f",
                                                    "gridcolor": "white",
                                                    "linecolor": "white",
                                                    "minorgridcolor": "white",
                                                    "startlinecolor": "#2a3f5f"
                                                },
                                                "type": "carpet"
                                            }
                                        ],
                                        "choropleth": [
                                            {
                                                "colorbar": {
                                                    "outlinewidth": 0,
                                                    "ticks": ""
                                                },
                                                "type": "choropleth"
                                            }
                                        ],
                                        "contour": [
                                            {
                                                "colorbar": {
                                                    "outlinewidth": 0,
                                                    "ticks": ""
                                                },
                                                "colorscale": [
                                                    [
                                                        0,
                                                        "#0d0887"
                                                    ],
                                                    [
                                                        0.1111111111111111,
                                                        "#46039f"
                                                    ],
                                                    [
                                                        0.2222222222222222,
                                                        "#7201a8"
                                                    ],
                                                    [
                                                        0.3333333333333333,
                                                        "#9c179e"
                                                    ],
                                                    [
                                                        0.4444444444444444,
                                                        "#bd3786"
                                                    ],
                                                    [
                                                        0.5555555555555556,
                                                        "#d8576b"
                                                    ],
                                                    [
                                                        0.6666666666666666,
                                                        "#ed7953"
                                                    ],
                                                    [
                                                        0.7777777777777778,
                                                        "#fb9f3a"
                                                    ],
                                                    [
                                                        0.8888888888888888,
                                                        "#fdca26"
                                                    ],
                                                    [
                                                        1,
                                                        "#f0f921"
                                                    ]
                                                ],
                                                "type": "contour"
                                            }
                                        ],
                                        "contourcarpet": [
                                            {
                                                "colorbar": {
                                                    "outlinewidth": 0,
                                                    "ticks": ""
                                                },
                                                "type": "contourcarpet"
                                            }
                                        ],
                                        "heatmap": [
                                            {
                                                "colorbar": {
                                                    "outlinewidth": 0,
                                                    "ticks": ""
                                                },
                                                "colorscale": [
                                                    [
                                                        0,
                                                        "#0d0887"
                                                    ],
                                                    [
                                                        0.1111111111111111,
                                                        "#46039f"
                                                    ],
                                                    [
                                                        0.2222222222222222,
                                                        "#7201a8"
                                                    ],
                                                    [
                                                        0.3333333333333333,
                                                        "#9c179e"
                                                    ],
                                                    [
                                                        0.4444444444444444,
                                                        "#bd3786"
                                                    ],
                                                    [
                                                        0.5555555555555556,
                                                        "#d8576b"
                                                    ],
                                                    [
                                                        0.6666666666666666,
                                                        "#ed7953"
                                                    ],
                                                    [
                                                        0.7777777777777778,
                                                        "#fb9f3a"
                                                    ],
                                                    [
                                                        0.8888888888888888,
                                                        "#fdca26"
                                                    ],
                                                    [
                                                        1,
                                                        "#f0f921"
                                                    ]
                                                ],
                                                "type": "heatmap"
                                            }
                                        ],
                                        "heatmapgl": [
                                            {
                                                "colorbar": {
                                                    "outlinewidth": 0,
                                                    "ticks": ""
                                                },
                                                "colorscale": [
                                                    [
                                                        0,
                                                        "#0d0887"
                                                    ],
                                                    [
                                                        0.1111111111111111,
                                                        "#46039f"
                                                    ],
                                                    [
                                                        0.2222222222222222,
                                                        "#7201a8"
                                                    ],
                                                    [
                                                        0.3333333333333333,
                                                        "#9c179e"
                                                    ],
                                                    [
                                                        0.4444444444444444,
                                                        "#bd3786"
                                                    ],
                                                    [
                                                        0.5555555555555556,
                                                        "#d8576b"
                                                    ],
                                                    [
                                                        0.6666666666666666,
                                                        "#ed7953"
                                                    ],
                                                    [
                                                        0.7777777777777778,
                                                        "#fb9f3a"
                                                    ],
                                                    [
                                                        0.8888888888888888,
                                                        "#fdca26"
                                                    ],
                                                    [
                                                        1,
                                                        "#f0f921"
                                                    ]
                                                ],
                                                "type": "heatmapgl"
                                            }
                                        ],
                                        "histogram": [
                                            {
                                                "marker": {
                                                    "pattern": {
                                                        "fillmode": "overlay",
                                                        "size": 10,
                                                        "solidity": 0.2
                                                    }
                                                },
                                                "type": "histogram"
                                            }
                                        ],
                                        "histogram2d": [
                                            {
                                                "colorbar": {
                                                    "outlinewidth": 0,
                                                    "ticks": ""
                                                },
                                                "colorscale": [
                                                    [
                                                        0,
                                                        "#0d0887"
                                                    ],
                                                    [
                                                        0.1111111111111111,
                                                        "#46039f"
                                                    ],
                                                    [
                                                        0.2222222222222222,
                                                        "#7201a8"
                                                    ],
                                                    [
                                                        0.3333333333333333,
                                                        "#9c179e"
                                                    ],
                                                    [
                                                        0.4444444444444444,
                                                        "#bd3786"
                                                    ],
                                                    [
                                                        0.5555555555555556,
                                                        "#d8576b"
                                                    ],
                                                    [
                                                        0.6666666666666666,
                                                        "#ed7953"
                                                    ],
                                                    [
                                                        0.7777777777777778,
                                                        "#fb9f3a"
                                                    ],
                                                    [
                                                        0.8888888888888888,
                                                        "#fdca26"
                                                    ],
                                                    [
                                                        1,
                                                        "#f0f921"
                                                    ]
                                                ],
                                                "type": "histogram2d"
                                            }
                                        ],
                                        "histogram2dcontour": [
                                            {
                                                "colorbar": {
                                                    "outlinewidth": 0,
                                                    "ticks": ""
                                                },
                                                "colorscale": [
                                                    [
                                                        0,
                                                        "#0d0887"
                                                    ],
                                                    [
                                                        0.1111111111111111,
                                                        "#46039f"
                                                    ],
                                                    [
                                                        0.2222222222222222,
                                                        "#7201a8"
                                                    ],
                                                    [
                                                        0.3333333333333333,
                                                        "#9c179e"
                                                    ],
                                                    [
                                                        0.4444444444444444,
                                                        "#bd3786"
                                                    ],
                                                    [
                                                        0.5555555555555556,
                                                        "#d8576b"
                                                    ],
                                                    [
                                                        0.6666666666666666,
                                                        "#ed7953"
                                                    ],
                                                    [
                                                        0.7777777777777778,
                                                        "#fb9f3a"
                                                    ],
                                                    [
                                                        0.8888888888888888,
                                                        "#fdca26"
                                                    ],
                                                    [
                                                        1,
                                                        "#f0f921"
                                                    ]
                                                ],
                                                "type": "histogram2dcontour"
                                            }
                                        ],
                                        "mesh3d": [
                                            {
                                                "colorbar": {
                                                    "outlinewidth": 0,
                                                    "ticks": ""
                                                },
                                                "type": "mesh3d"
                                            }
                                        ],
                                        "parcoords": [
                                            {
                                                "line": {
                                                    "colorbar": {
                                                        "outlinewidth": 0,
                                                        "ticks": ""
                                                    }
                                                },
                                                "type": "parcoords"
                                            }
                                        ],
                                        "pie": [
                                            {
                                                "automargin": true,
                                                "type": "pie"
                                            }
                                        ],
                                        "scatter": [
                                            {
                                                "marker": {
                                                    "colorbar": {
                                                        "outlinewidth": 0,
                                                        "ticks": ""
                                                    }
                                                },
                                                "type": "scatter"
                                            }
                                        ],
                                        "scatter3d": [
                                            {
                                                "line": {
                                                    "colorbar": {
                                                        "outlinewidth": 0,
                                                        "ticks": ""
                                                    }
                                                },
                                                "marker": {
                                                    "colorbar": {
                                                        "outlinewidth": 0,
                                                        "ticks": ""
                                                    }
                                                },
                                                "type": "scatter3d"
                                            }
                                        ],
                                        "scattercarpet": [
                                            {
                                                "marker": {
                                                    "colorbar": {
                                                        "outlinewidth": 0,
                                                        "ticks": ""
                                                    }
                                                },
                                                "type": "scattercarpet"
                                            }
                                        ],
                                        "scattergeo": [
                                            {
                                                "marker": {
                                                    "colorbar": {
                                                        "outlinewidth": 0,
                                                        "ticks": ""
                                                    }
                                                },
                                                "type": "scattergeo"
                                            }
                                        ],
                                        "scattergl": [
                                            {
                                                "marker": {
                                                    "colorbar": {
                                                        "outlinewidth": 0,
                                                        "ticks": ""
                                                    }
                                                },
                                                "type": "scattergl"
                                            }
                                        ],
                                        "scattermapbox": [
                                            {
                                                "marker": {
                                                    "colorbar": {
                                                        "outlinewidth": 0,
                                                        "ticks": ""
                                                    }
                                                },
                                                "type": "scattermapbox"
                                            }
                                        ],
                                        "scatterpolar": [
                                            {
                                                "marker": {
                                                    "colorbar": {
                                                        "outlinewidth": 0,
                                                        "ticks": ""
                                                    }
                                                },
                                                "type": "scatterpolar"
                                            }
                                        ],
                                        "scatterpolargl": [
                                            {
                                                "marker": {
                                                    "colorbar": {
                                                        "outlinewidth": 0,
                                                        "ticks": ""
                                                    }
                                                },
                                                "type": "scatterpolargl"
                                            }
                                        ],
                                        "scatterternary": [
                                            {
                                                "marker": {
                                                    "colorbar": {
                                                        "outlinewidth": 0,
                                                        "ticks": ""
                                                    }
                                                },
                                                "type": "scatterternary"
                                            }
                                        ],
                                        "surface": [
                                            {
                                                "colorbar": {
                                                    "outlinewidth": 0,
                                                    "ticks": ""
                                                },
                                                "colorscale": [
                                                    [
                                                        0,
                                                        "#0d0887"
                                                    ],
                                                    [
                                                        0.1111111111111111,
                                                        "#46039f"
                                                    ],
                                                    [
                                                        0.2222222222222222,
                                                        "#7201a8"
                                                    ],
                                                    [
                                                        0.3333333333333333,
                                                        "#9c179e"
                                                    ],
                                                    [
                                                        0.4444444444444444,
                                                        "#bd3786"
                                                    ],
                                                    [
                                                        0.5555555555555556,
                                                        "#d8576b"
                                                    ],
                                                    [
                                                        0.6666666666666666,
                                                        "#ed7953"
                                                    ],
                                                    [
                                                        0.7777777777777778,
                                                        "#fb9f3a"
                                                    ],
                                                    [
                                                        0.8888888888888888,
                                                        "#fdca26"
                                                    ],
                                                    [
                                                        1,
                                                        "#f0f921"
                                                    ]
                                                ],
                                                "type": "surface"
                                            }
                                        ],
                                        "table": [
                                            {
                                                "cells": {
                                                    "fill": {
                                                        "color": "#EBF0F8"
                                                    },
                                                    "line": {
                                                        "color": "white"
                                                    }
                                                },
                                                "header": {
                                                    "fill": {
                                                        "color": "#C8D4E3"
                                                    },
                                                    "line": {
                                                        "color": "white"
                                                    }
                                                },
                                                "type": "table"
                                            }
                                        ]
                                    },
                                    "layout": {
                                        "annotationdefaults": {
                                            "arrowcolor": "#2a3f5f",
                                            "arrowhead": 0,
                                            "arrowwidth": 1
                                        },
                                        "autotypenumbers": "strict",
                                        "coloraxis": {
                                            "colorbar": {
                                                "outlinewidth": 0,
                                                "ticks": ""
                                            }
                                        },
                                        "colorscale": {
                                            "diverging": [
                                                [
                                                    0,
                                                    "#8e0152"
                                                ],
                                                [
                                                    0.1,
                                                    "#c51b7d"
                                                ],
                                                [
                                                    0.2,
                                                    "#de77ae"
                                                ],
                                                [
                                                    0.3,
                                                    "#f1b6da"
                                                ],
                                                [
                                                    0.4,
                                                    "#fde0ef"
                                                ],
                                                [
                                                    0.5,
                                                    "#f7f7f7"
                                                ],
                                                [
                                                    0.6,
                                                    "#e6f5d0"
                                                ],
                                                [
                                                    0.7,
                                                    "#b8e186"
                                                ],
                                                [
                                                    0.8,
                                                    "#7fbc41"
                                                ],
                                                [
                                                    0.9,
                                                    "#4d9221"
                                                ],
                                                [
                                                    1,
                                                    "#276419"
                                                ]
                                            ],
                                            "sequential": [
                                                [
                                                    0,
                                                    "#0d0887"
                                                ],
                                                [
                                                    0.1111111111111111,
                                                    "#46039f"
                                                ],
                                                [
                                                    0.2222222222222222,
                                                    "#7201a8"
                                                ],
                                                [
                                                    0.3333333333333333,
                                                    "#9c179e"
                                                ],
                                                [
                                                    0.4444444444444444,
                                                    "#bd3786"
                                                ],
                                                [
                                                    0.5555555555555556,
                                                    "#d8576b"
                                                ],
                                                [
                                                    0.6666666666666666,
                                                    "#ed7953"
                                                ],
                                                [
                                                    0.7777777777777778,
                                                    "#fb9f3a"
                                                ],
                                                [
                                                    0.8888888888888888,
                                                    "#fdca26"
                                                ],
                                                [
                                                    1,
                                                    "#f0f921"
                                                ]
                                            ],
                                            "sequentialminus": [
                                                [
                                                    0,
                                                    "#0d0887"
                                                ],
                                                [
                                                    0.1111111111111111,
                                                    "#46039f"
                                                ],
                                                [
                                                    0.2222222222222222,
                                                    "#7201a8"
                                                ],
                                                [
                                                    0.3333333333333333,
                                                    "#9c179e"
                                                ],
                                                [
                                                    0.4444444444444444,
                                                    "#bd3786"
                                                ],
                                                [
                                                    0.5555555555555556,
                                                    "#d8576b"
                                                ],
                                                [
                                                    0.6666666666666666,
                                                    "#ed7953"
                                                ],
                                                [
                                                    0.7777777777777778,
                                                    "#fb9f3a"
                                                ],
                                                [
                                                    0.8888888888888888,
                                                    "#fdca26"
                                                ],
                                                [
                                                    1,
                                                    "#f0f921"
                                                ]
                                            ]
                                        },
                                        "colorway": [
                                            "#636efa",
                                            "#EF553B",
                                            "#00cc96",
                                            "#ab63fa",
                                            "#FFA15A",
                                            "#19d3f3",
                                            "#FF6692",
                                            "#B6E880",
                                            "#FF97FF",
                                            "#FECB52"
                                        ],
                                        "font": {
                                            "color": "#2a3f5f"
                                        },
                                        "geo": {
                                            "bgcolor": "white",
                                            "lakecolor": "white",
                                            "landcolor": "#E5ECF6",
                                            "showlakes": true,
                                            "showland": true,
                                            "subunitcolor": "white"
                                        },
                                        "hoverlabel": {
                                            "align": "left"
                                        },
                                        "hovermode": "closest",
                                        "mapbox": {
                                            "style": "light"
                                        },
                                        "paper_bgcolor": "white",
                                        "plot_bgcolor": "#E5ECF6",
                                        "polar": {
                                            "angularaxis": {
                                                "gridcolor": "white",
                                                "linecolor": "white",
                                                "ticks": ""
                                            },
                                            "bgcolor": "#E5ECF6",
                                            "radialaxis": {
                                                "gridcolor": "white",
                                                "linecolor": "white",
                                                "ticks": ""
                                            }
                                        },
                                        "scene": {
                                            "xaxis": {
                                                "backgroundcolor": "#E5ECF6",
                                                "gridcolor": "white",
                                                "gridwidth": 2,
                                                "linecolor": "white",
                                                "showbackground": true,
                                                "ticks": "",
                                                "zerolinecolor": "white"
                                            },
                                            "yaxis": {
                                                "backgroundcolor": "#E5ECF6",
                                                "gridcolor": "white",
                                                "gridwidth": 2,
                                                "linecolor": "white",
                                                "showbackground": true,
                                                "ticks": "",
                                                "zerolinecolor": "white"
                                            },
                                            "zaxis": {
                                                "backgroundcolor": "#E5ECF6",
                                                "gridcolor": "white",
                                                "gridwidth": 2,
                                                "linecolor": "white",
                                                "showbackground": true,
                                                "ticks": "",
                                                "zerolinecolor": "white"
                                            }
                                        },
                                        "shapedefaults": {
                                            "line": {
                                                "color": "#2a3f5f"
                                            }
                                        },
                                        "ternary": {
                                            "aaxis": {
                                                "gridcolor": "white",
                                                "linecolor": "white",
                                                "ticks": ""
                                            },
                                            "baxis": {
                                                "gridcolor": "white",
                                                "linecolor": "white",
                                                "ticks": ""
                                            },
                                            "bgcolor": "#E5ECF6",
                                            "caxis": {
                                                "gridcolor": "white",
                                                "linecolor": "white",
                                                "ticks": ""
                                            }
                                        },
                                        "title": {
                                            "x": 0.05
                                        },
                                        "xaxis": {
                                            "automargin": true,
                                            "gridcolor": "white",
                                            "linecolor": "white",
                                            "ticks": "",
                                            "title": {
                                                "standoff": 15
                                            },
                                            "zerolinecolor": "white",
                                            "zerolinewidth": 2
                                        },
                                        "yaxis": {
                                            "automargin": true,
                                            "gridcolor": "white",
                                            "linecolor": "white",
                                            "ticks": "",
                                            "title": {
                                                "standoff": 15
                                            },
                                            "zerolinecolor": "white",
                                            "zerolinewidth": 2
                                        }
                                    }
                                },
                                "xaxis": {
                                    "anchor": "y",
                                    "domain": [
                                        0,
                                        1
                                    ],
                                    "title": {
                                        "text": "Rank"
                                    }
                                },
                                "yaxis": {
                                    "anchor": "x",
                                    "domain": [
                                        0,
                                        1
                                    ],
                                    "title": {
                                        "text": "Population"
                                    }
                                }
                            }
                        }
                    },
                    "metadata": {}
                }
            ],
            "metadata": {}
        }
    ],
    "metadata": {
        "orig_nbformat": 4,
        "language_info": {
            "name": "python"
        }
    },
    "nbformat": 4,
    "nbformat_minor": 2
}