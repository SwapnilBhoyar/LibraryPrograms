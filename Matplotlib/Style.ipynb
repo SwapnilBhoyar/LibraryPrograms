{
    "cells": [
        {
            "cell_type": "code",
            "execution_count": null,
            "source": [
                "\"\"\"\n",
                "@Author: Swapnil Bhoyar\n",
                "@Date: 2021-07-14 \n",
                "@Last Modified by: Swapnil Bhoyar\n",
                "@Last Modified time: 2021-08-14\n",
                "@Title : Write a Python program to plot two or more lines with different styles\n",
                "\"\"\"\n",
                "\n",
                "import Log\n",
                "import matplotlib.pyplot as plt\n",
                "\n",
                "def style():\n",
                "    try:\n",
                "        x = [10,20,30,40,50]\n",
                "        y = [30,30,30,30,30]\n",
                "        \n",
                "        plt.plot(x, y, label = \"line 1\", linestyle='dotted')\n",
                "        plt.plot(y, x, label = \"line 2\", linestyle='dashed')\n",
                "        plt.legend()\n",
                "        plt.show()\n",
                "    except Exception as e:\n",
                "        Log.logging.error(e)\n",
                "\n",
                "style()"
            ],
            "outputs": [],
            "metadata": {}
        }
    ],
    "metadata": {
        "orig_nbformat": 4,
        "language_info": {
            "name": "python"
        }
    },
    "nbformat": 4,
    "nbformat_minor": 2
}